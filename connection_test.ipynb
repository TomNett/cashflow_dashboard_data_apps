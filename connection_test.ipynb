{
 "cells": [
  {
   "cell_type": "code",
   "execution_count": 4,
   "metadata": {},
   "outputs": [],
   "source": [
    "import plotly.express as px\n",
    "import plotly.graph_objects as go\n",
    "import pandas as pd "
   ]
  },
  {
   "cell_type": "code",
   "execution_count": 66,
   "metadata": {},
   "outputs": [
    {
     "data": {
      "text/html": [
       "<div>\n",
       "<style scoped>\n",
       "    .dataframe tbody tr th:only-of-type {\n",
       "        vertical-align: middle;\n",
       "    }\n",
       "\n",
       "    .dataframe tbody tr th {\n",
       "        vertical-align: top;\n",
       "    }\n",
       "\n",
       "    .dataframe thead th {\n",
       "        text-align: right;\n",
       "    }\n",
       "</style>\n",
       "<table border=\"1\" class=\"dataframe\">\n",
       "  <thead>\n",
       "    <tr style=\"text-align: right;\">\n",
       "      <th></th>\n",
       "      <th>Client</th>\n",
       "      <th>Budget</th>\n",
       "      <th>Budget_Amount</th>\n",
       "      <th>Currency</th>\n",
       "      <th>Since_Date</th>\n",
       "      <th>Until_Date</th>\n",
       "      <th>Campaings</th>\n",
       "    </tr>\n",
       "  </thead>\n",
       "  <tbody>\n",
       "    <tr>\n",
       "      <th>0</th>\n",
       "      <td>MOL</td>\n",
       "      <td>MOL_B1</td>\n",
       "      <td>1000</td>\n",
       "      <td>EUR</td>\n",
       "      <td>2023-07-12</td>\n",
       "      <td>2023-08-12</td>\n",
       "      <td>[FACEBOOK-MOL - video views - IG - MOL MOVE ka...</td>\n",
       "    </tr>\n",
       "    <tr>\n",
       "      <th>1</th>\n",
       "      <td>MOL</td>\n",
       "      <td>MOL_B2</td>\n",
       "      <td>1200</td>\n",
       "      <td>EUR</td>\n",
       "      <td>2023-06-01</td>\n",
       "      <td>2023-08-01</td>\n",
       "      <td>[FACEBOOK-MOL - FB posts - video views - 06/20...</td>\n",
       "    </tr>\n",
       "    <tr>\n",
       "      <th>2</th>\n",
       "      <td>MOL_2</td>\n",
       "      <td>B3_MOL</td>\n",
       "      <td>1500</td>\n",
       "      <td>EUR</td>\n",
       "      <td>2023-05-20</td>\n",
       "      <td>2023-08-20</td>\n",
       "      <td>[FACEBOOK-MOL - FB posts - video views - 06/20...</td>\n",
       "    </tr>\n",
       "  </tbody>\n",
       "</table>\n",
       "</div>"
      ],
      "text/plain": [
       "  Client  Budget  Budget_Amount Currency Since_Date Until_Date  \\\n",
       "0    MOL  MOL_B1           1000      EUR 2023-07-12 2023-08-12   \n",
       "1    MOL  MOL_B2           1200      EUR 2023-06-01 2023-08-01   \n",
       "2  MOL_2  B3_MOL           1500      EUR 2023-05-20 2023-08-20   \n",
       "\n",
       "                                           Campaings  \n",
       "0  [FACEBOOK-MOL - video views - IG - MOL MOVE ka...  \n",
       "1  [FACEBOOK-MOL - FB posts - video views - 06/20...  \n",
       "2  [FACEBOOK-MOL - FB posts - video views - 06/20...  "
      ]
     },
     "execution_count": 66,
     "metadata": {},
     "output_type": "execute_result"
    }
   ],
   "source": [
    "\n",
    "data_from_snowflake = {\n",
    "    'CLIENT': ['MOL', 'MOL', 'MOL_2'],\n",
    "    'BUDGET': ['MOL_B1', 'MOL_B2', 'B3_MOL'],\n",
    "    'BUDGET_AMOUNT': [1000, 1200, 1500],\n",
    "    'CURRENCY': ['EUR', 'EUR', 'EUR'],\n",
    "    'SINCE_DATE': ['2023-07-12', '2023-06-01', '2023-05-20'],\n",
    "    'UNTIL_DATE': ['2023-08-12', '2023-08-01', '2023-08-20'],\n",
    "    'CAMPAINGS': [\n",
    "        [\"FACEBOOK-MOL - video views - IG - MOL MOVE kampaň - 05-07/2023\", \n",
    "         \"FACEBOOK-MOL - link clicks - FB - MOL MOVE kampaň - 05-07/2023\", \n",
    "         \"FACEBOOK-MOL - FB+IG - link clicks - PWG kampaň - 07-09/2023\"],\n",
    "        [\"FACEBOOK-MOL - FB posts - video views - 06/2023\", \n",
    "         \"LINKEDIN-MOL - link clicks - LI - Provozovatel Chebsko - 05-06/2023\", \n",
    "         \"LINKEDIN-MOL - link clicks - LI - Provozovatel Praha - 05-06/2023\"],\n",
    "        [\"FACEBOOK-MOL - FB posts - video views - 06/2023\", \n",
    "         \"FACEBOOK-MOL - link clicks - IG - MOL MOVE kampaň - 05-07/2023\"]\n",
    "    ]\n",
    "}\n",
    "data_from_snowflake = pd.DataFrame(data_from_snowflake)\n",
    "data_from_snowflake.columns = data_from_snowflake.columns.str.lower()\n",
    "data_from_snowflake.columns = data_from_snowflake.columns.str.title()\n",
    "data_from_snowflake['Since_Date'] = pd.to_datetime(data_from_snowflake['Since_Date'])\n",
    "data_from_snowflake['Until_Date'] = pd.to_datetime(data_from_snowflake['Until_Date'])\n",
    "\n",
    "\n",
    "client_list = data_from_snowflake[\"Client\"].unique()\n",
    "data_from_snowflake"
   ]
  },
  {
   "cell_type": "code",
   "execution_count": 32,
   "metadata": {},
   "outputs": [
    {
     "data": {
      "text/html": [
       "<div>\n",
       "<style scoped>\n",
       "    .dataframe tbody tr th:only-of-type {\n",
       "        vertical-align: middle;\n",
       "    }\n",
       "\n",
       "    .dataframe tbody tr th {\n",
       "        vertical-align: top;\n",
       "    }\n",
       "\n",
       "    .dataframe thead th {\n",
       "        text-align: right;\n",
       "    }\n",
       "</style>\n",
       "<table border=\"1\" class=\"dataframe\">\n",
       "  <thead>\n",
       "    <tr style=\"text-align: right;\">\n",
       "      <th></th>\n",
       "      <th>Client</th>\n",
       "      <th>Budget</th>\n",
       "      <th>Budget_Amount</th>\n",
       "      <th>Currency</th>\n",
       "      <th>Since_Date</th>\n",
       "      <th>Until_Date</th>\n",
       "      <th>Campaings</th>\n",
       "    </tr>\n",
       "  </thead>\n",
       "  <tbody>\n",
       "    <tr>\n",
       "      <th>0</th>\n",
       "      <td>MOL</td>\n",
       "      <td>MOL_B1</td>\n",
       "      <td>1000</td>\n",
       "      <td>EUR</td>\n",
       "      <td>2023-07-12</td>\n",
       "      <td>2023-08-12</td>\n",
       "      <td>[TIKTOK-MOL CZ - TT - Follows - 03/2023, FACEB...</td>\n",
       "    </tr>\n",
       "    <tr>\n",
       "      <th>1</th>\n",
       "      <td>WMC</td>\n",
       "      <td>WMC_B2</td>\n",
       "      <td>1200</td>\n",
       "      <td>EUR</td>\n",
       "      <td>2023-06-01</td>\n",
       "      <td>2023-08-01</td>\n",
       "      <td>[LINKEDIN-MOL - link clicks - LI - Provozovate...</td>\n",
       "    </tr>\n",
       "    <tr>\n",
       "      <th>2</th>\n",
       "      <td>MOL</td>\n",
       "      <td>B3_MOL</td>\n",
       "      <td>1500</td>\n",
       "      <td>EUR</td>\n",
       "      <td>2023-05-20</td>\n",
       "      <td>2023-08-20</td>\n",
       "      <td>[LINKEDIN-MOL - link clicks - LI - Provozovate...</td>\n",
       "    </tr>\n",
       "  </tbody>\n",
       "</table>\n",
       "</div>"
      ],
      "text/plain": [
       "  Client  Budget  Budget_Amount Currency Since_Date Until_Date  \\\n",
       "0    MOL  MOL_B1           1000      EUR 2023-07-12 2023-08-12   \n",
       "1    WMC  WMC_B2           1200      EUR 2023-06-01 2023-08-01   \n",
       "2    MOL  B3_MOL           1500      EUR 2023-05-20 2023-08-20   \n",
       "\n",
       "                                           Campaings  \n",
       "0  [TIKTOK-MOL CZ - TT - Follows - 03/2023, FACEB...  \n",
       "1  [LINKEDIN-MOL - link clicks - LI - Provozovate...  \n",
       "2  [LINKEDIN-MOL - link clicks - LI - Provozovate...  "
      ]
     },
     "execution_count": 32,
     "metadata": {},
     "output_type": "execute_result"
    }
   ],
   "source": [
    "data_from_snowflake.groupby(['Client'])\n",
    "data_from_snowflake"
   ]
  },
  {
   "cell_type": "code",
   "execution_count": 22,
   "metadata": {},
   "outputs": [
    {
     "data": {
      "text/html": [
       "<div>\n",
       "<style scoped>\n",
       "    .dataframe tbody tr th:only-of-type {\n",
       "        vertical-align: middle;\n",
       "    }\n",
       "\n",
       "    .dataframe tbody tr th {\n",
       "        vertical-align: top;\n",
       "    }\n",
       "\n",
       "    .dataframe thead th {\n",
       "        text-align: right;\n",
       "    }\n",
       "</style>\n",
       "<table border=\"1\" class=\"dataframe\">\n",
       "  <thead>\n",
       "    <tr style=\"text-align: right;\">\n",
       "      <th></th>\n",
       "      <th>Client</th>\n",
       "      <th>Budget</th>\n",
       "      <th>Budget_Amount</th>\n",
       "      <th>Currency</th>\n",
       "      <th>Since_Date</th>\n",
       "      <th>Until_Date</th>\n",
       "      <th>Campaings</th>\n",
       "    </tr>\n",
       "  </thead>\n",
       "  <tbody>\n",
       "    <tr>\n",
       "      <th>0</th>\n",
       "      <td>MOL</td>\n",
       "      <td>MOL_B1</td>\n",
       "      <td>1000</td>\n",
       "      <td>EUR</td>\n",
       "      <td>2023-07-12</td>\n",
       "      <td>2023-08-12</td>\n",
       "      <td>[TIKTOK-MOL CZ - TT - Follows - 03/2023, FACEB...</td>\n",
       "    </tr>\n",
       "    <tr>\n",
       "      <th>1</th>\n",
       "      <td>WMC</td>\n",
       "      <td>WMC_B2</td>\n",
       "      <td>1200</td>\n",
       "      <td>EUR</td>\n",
       "      <td>2023-06-01</td>\n",
       "      <td>2023-08-01</td>\n",
       "      <td>[LINKEDIN-MOL - link clicks - LI - Provozovate...</td>\n",
       "    </tr>\n",
       "    <tr>\n",
       "      <th>3</th>\n",
       "      <td>MOL</td>\n",
       "      <td>MOL_B1</td>\n",
       "      <td>1000</td>\n",
       "      <td>EUR</td>\n",
       "      <td>2023-07-12</td>\n",
       "      <td>2023-08-12</td>\n",
       "      <td>[TIKTOK-MOL CZ - TT - Follows - 03/2023, FACEB...</td>\n",
       "    </tr>\n",
       "    <tr>\n",
       "      <th>4</th>\n",
       "      <td>WMC</td>\n",
       "      <td>WMC_B2</td>\n",
       "      <td>1200</td>\n",
       "      <td>EUR</td>\n",
       "      <td>2023-06-01</td>\n",
       "      <td>2023-08-01</td>\n",
       "      <td>[LINKEDIN-MOL - link clicks - LI - Provozovate...</td>\n",
       "    </tr>\n",
       "  </tbody>\n",
       "</table>\n",
       "</div>"
      ],
      "text/plain": [
       "  Client  Budget  Budget_Amount Currency Since_Date Until_Date  \\\n",
       "0    MOL  MOL_B1           1000      EUR 2023-07-12 2023-08-12   \n",
       "1    WMC  WMC_B2           1200      EUR 2023-06-01 2023-08-01   \n",
       "3    MOL  MOL_B1           1000      EUR 2023-07-12 2023-08-12   \n",
       "4    WMC  WMC_B2           1200      EUR 2023-06-01 2023-08-01   \n",
       "\n",
       "                                           Campaings  \n",
       "0  [TIKTOK-MOL CZ - TT - Follows - 03/2023, FACEB...  \n",
       "1  [LINKEDIN-MOL - link clicks - LI - Provozovate...  \n",
       "3  [TIKTOK-MOL CZ - TT - Follows - 03/2023, FACEB...  \n",
       "4  [LINKEDIN-MOL - link clicks - LI - Provozovate...  "
      ]
     },
     "execution_count": 22,
     "metadata": {},
     "output_type": "execute_result"
    }
   ],
   "source": [
    "import datetime\n",
    "def custom_str_to_date(date_str, format_str='%d %B, %Y'):\n",
    "    return datetime.datetime.strptime(date_str, format_str).date()\n",
    "\n",
    "\n",
    "def first_day_month(selected_year_month):\n",
    "    first_d = '1 ' + selected_year_month[5:] + ', 2023'\n",
    "    first_date = custom_str_to_date(first_d)\n",
    "    return first_date\n",
    "selected_year_month = ('2023-July')\n",
    "my_date = pd.to_datetime(first_day_month(selected_year_month))\n",
    "data_from_snowflake"
   ]
  },
  {
   "cell_type": "code",
   "execution_count": 23,
   "metadata": {},
   "outputs": [
    {
     "data": {
      "text/html": [
       "<div>\n",
       "<style scoped>\n",
       "    .dataframe tbody tr th:only-of-type {\n",
       "        vertical-align: middle;\n",
       "    }\n",
       "\n",
       "    .dataframe tbody tr th {\n",
       "        vertical-align: top;\n",
       "    }\n",
       "\n",
       "    .dataframe thead th {\n",
       "        text-align: right;\n",
       "    }\n",
       "</style>\n",
       "<table border=\"1\" class=\"dataframe\">\n",
       "  <thead>\n",
       "    <tr style=\"text-align: right;\">\n",
       "      <th></th>\n",
       "      <th>Client</th>\n",
       "      <th>Budget</th>\n",
       "      <th>Budget_Amount</th>\n",
       "      <th>Currency</th>\n",
       "      <th>Since_Date</th>\n",
       "      <th>Until_Date</th>\n",
       "      <th>Campaings</th>\n",
       "    </tr>\n",
       "  </thead>\n",
       "  <tbody>\n",
       "    <tr>\n",
       "      <th>0</th>\n",
       "      <td>MOL</td>\n",
       "      <td>MOL_B1</td>\n",
       "      <td>1000</td>\n",
       "      <td>EUR</td>\n",
       "      <td>2023-07-12</td>\n",
       "      <td>2023-08-12</td>\n",
       "      <td>[TIKTOK-MOL CZ - TT - Follows - 03/2023, FACEB...</td>\n",
       "    </tr>\n",
       "    <tr>\n",
       "      <th>3</th>\n",
       "      <td>MOL</td>\n",
       "      <td>MOL_B1</td>\n",
       "      <td>1000</td>\n",
       "      <td>EUR</td>\n",
       "      <td>2023-07-12</td>\n",
       "      <td>2023-08-12</td>\n",
       "      <td>[TIKTOK-MOL CZ - TT - Follows - 03/2023, FACEB...</td>\n",
       "    </tr>\n",
       "  </tbody>\n",
       "</table>\n",
       "</div>"
      ],
      "text/plain": [
       "  Client  Budget  Budget_Amount Currency Since_Date Until_Date  \\\n",
       "0    MOL  MOL_B1           1000      EUR 2023-07-12 2023-08-12   \n",
       "3    MOL  MOL_B1           1000      EUR 2023-07-12 2023-08-12   \n",
       "\n",
       "                                           Campaings  \n",
       "0  [TIKTOK-MOL CZ - TT - Follows - 03/2023, FACEB...  \n",
       "3  [TIKTOK-MOL CZ - TT - Follows - 03/2023, FACEB...  "
      ]
     },
     "execution_count": 23,
     "metadata": {},
     "output_type": "execute_result"
    }
   ],
   "source": [
    "data_from_snowflake = data_from_snowflake[data_from_snowflake['Since_Date'] >= pd.to_datetime(first_day_month(selected_year_month))]\n",
    "data_from_snowflake"
   ]
  },
  {
   "cell_type": "code",
   "execution_count": 3,
   "metadata": {},
   "outputs": [],
   "source": [
    "file_path_local = \"data/ads_insight_fact.csv\"\n",
    "df = pd.read_csv(file_path_local)\n",
    "# CREATED_DATE\tstart_date\tMODIFIED_DATE\tEND_DATE\n",
    "df[\"created_date\"] = pd.to_datetime(df[\"created_date\"]).dt.date\n",
    "df[\"start_date\"] = pd.to_datetime(df[\"start_date\"]).dt.date\n",
    "df[\"modified_date\"] = pd.to_datetime(df[\"modified_date\"]).dt.date\n",
    "df[\"end_date\"] = pd.to_datetime(df[\"end_date\"]).dt.date\n",
    "\n",
    "\n",
    "df[\"impressions\"] = pd.to_numeric(df[\"impressions\"])\n",
    "df[\"link_clicks\"] = pd.to_numeric(df[\"link_clicks\"])\n",
    "df['start_date'] = pd.to_datetime(df['start_date'])\n",
    "df['campaign_name'] = df.apply(\n",
    "    lambda row: row['platform_id'][:9] + '-' + row['campaign_name'], axis=1)\n"
   ]
  },
  {
   "cell_type": "code",
   "execution_count": 5,
   "metadata": {},
   "outputs": [
    {
     "data": {
      "text/plain": [
       "Index(['src_id', 'user_id', 'account_id', 'platform_id', 'account_name',\n",
       "       'ads_id', 'ads_name', 'created_date', 'start_date', 'modified_date',\n",
       "       'end_date', 'campaign_id', 'campaign_name', 'currency_id',\n",
       "       'spent_amount', 'reach', 'impressions', 'frequency', 'cpm',\n",
       "       'link_clicks', 'ctr', 'post_comments', 'post_reactions', 'post_shares',\n",
       "       'video_views', 'six_sec_video_view', 'full_video_view',\n",
       "       'est_ad_recall_lift', 'est_ad_recall_lift_rate',\n",
       "       'active_view_measurability', 'landing_page_clicks', 'paid_comments',\n",
       "       'paid_likes', 'paid_shares'],\n",
       "      dtype='object')"
      ]
     },
     "execution_count": 5,
     "metadata": {},
     "output_type": "execute_result"
    }
   ],
   "source": [
    "df.columns"
   ]
  },
  {
   "cell_type": "code",
   "execution_count": 4,
   "metadata": {},
   "outputs": [],
   "source": []
  },
  {
   "cell_type": "code",
   "execution_count": 24,
   "metadata": {},
   "outputs": [
    {
     "data": {
      "text/plain": [
       "'July'"
      ]
     },
     "execution_count": 24,
     "metadata": {},
     "output_type": "execute_result"
    }
   ],
   "source": [
    "default_ix_for_filter = min(data_from_snowflake['Since_Date']).strftime(\"%B\")\n",
    "default_ix_for_filter"
   ]
  },
  {
   "cell_type": "code",
   "execution_count": 4,
   "metadata": {},
   "outputs": [
    {
     "data": {
      "text/html": [
       "<div>\n",
       "<style scoped>\n",
       "    .dataframe tbody tr th:only-of-type {\n",
       "        vertical-align: middle;\n",
       "    }\n",
       "\n",
       "    .dataframe tbody tr th {\n",
       "        vertical-align: top;\n",
       "    }\n",
       "\n",
       "    .dataframe thead th {\n",
       "        text-align: right;\n",
       "    }\n",
       "</style>\n",
       "<table border=\"1\" class=\"dataframe\">\n",
       "  <thead>\n",
       "    <tr style=\"text-align: right;\">\n",
       "      <th></th>\n",
       "      <th>Client</th>\n",
       "      <th>Budget</th>\n",
       "      <th>Budget_Amount</th>\n",
       "      <th>Currency</th>\n",
       "      <th>Since_Date</th>\n",
       "      <th>Until_Date</th>\n",
       "      <th>Campaings</th>\n",
       "    </tr>\n",
       "  </thead>\n",
       "  <tbody>\n",
       "    <tr>\n",
       "      <th>0</th>\n",
       "      <td>MOL</td>\n",
       "      <td>MOL_B1</td>\n",
       "      <td>1000</td>\n",
       "      <td>EUR</td>\n",
       "      <td>2023-07-12</td>\n",
       "      <td>2023-08-12</td>\n",
       "      <td>[TIKTOK-MOL CZ - TT - Follows - 03/2023, FACEB...</td>\n",
       "    </tr>\n",
       "    <tr>\n",
       "      <th>1</th>\n",
       "      <td>WMC</td>\n",
       "      <td>WMC_B2</td>\n",
       "      <td>1200</td>\n",
       "      <td>EUR</td>\n",
       "      <td>2023-06-01</td>\n",
       "      <td>2023-08-01</td>\n",
       "      <td>[LINKEDIN-MOL - link clicks - LI - Provozovate...</td>\n",
       "    </tr>\n",
       "    <tr>\n",
       "      <th>2</th>\n",
       "      <td>MOL</td>\n",
       "      <td>B3_MOL</td>\n",
       "      <td>1500</td>\n",
       "      <td>EUR</td>\n",
       "      <td>2023-05-20</td>\n",
       "      <td>2023-08-20</td>\n",
       "      <td>[LINKEDIN-MOL - link clicks - LI - Provozovate...</td>\n",
       "    </tr>\n",
       "    <tr>\n",
       "      <th>3</th>\n",
       "      <td>MOL</td>\n",
       "      <td>MOL_B1</td>\n",
       "      <td>1000</td>\n",
       "      <td>EUR</td>\n",
       "      <td>2023-07-12</td>\n",
       "      <td>2023-08-12</td>\n",
       "      <td>[TIKTOK-MOL CZ - TT - Follows - 03/2023, FACEB...</td>\n",
       "    </tr>\n",
       "    <tr>\n",
       "      <th>4</th>\n",
       "      <td>WMC</td>\n",
       "      <td>WMC_B2</td>\n",
       "      <td>1200</td>\n",
       "      <td>EUR</td>\n",
       "      <td>2023-06-01</td>\n",
       "      <td>2023-08-01</td>\n",
       "      <td>[LINKEDIN-MOL - link clicks - LI - Provozovate...</td>\n",
       "    </tr>\n",
       "    <tr>\n",
       "      <th>5</th>\n",
       "      <td>MOL</td>\n",
       "      <td>B3_MOL</td>\n",
       "      <td>1500</td>\n",
       "      <td>EUR</td>\n",
       "      <td>2023-05-20</td>\n",
       "      <td>2023-08-20</td>\n",
       "      <td>[LINKEDIN-MOL - link clicks - LI - Provozovate...</td>\n",
       "    </tr>\n",
       "  </tbody>\n",
       "</table>\n",
       "</div>"
      ],
      "text/plain": [
       "  Client  Budget  Budget_Amount Currency  Since_Date  Until_Date  \\\n",
       "0    MOL  MOL_B1           1000      EUR  2023-07-12  2023-08-12   \n",
       "1    WMC  WMC_B2           1200      EUR  2023-06-01  2023-08-01   \n",
       "2    MOL  B3_MOL           1500      EUR  2023-05-20  2023-08-20   \n",
       "3    MOL  MOL_B1           1000      EUR  2023-07-12  2023-08-12   \n",
       "4    WMC  WMC_B2           1200      EUR  2023-06-01  2023-08-01   \n",
       "5    MOL  B3_MOL           1500      EUR  2023-05-20  2023-08-20   \n",
       "\n",
       "                                           Campaings  \n",
       "0  [TIKTOK-MOL CZ - TT - Follows - 03/2023, FACEB...  \n",
       "1  [LINKEDIN-MOL - link clicks - LI - Provozovate...  \n",
       "2  [LINKEDIN-MOL - link clicks - LI - Provozovate...  \n",
       "3  [TIKTOK-MOL CZ - TT - Follows - 03/2023, FACEB...  \n",
       "4  [LINKEDIN-MOL - link clicks - LI - Provozovate...  \n",
       "5  [LINKEDIN-MOL - link clicks - LI - Provozovate...  "
      ]
     },
     "execution_count": 4,
     "metadata": {},
     "output_type": "execute_result"
    }
   ],
   "source": [
    "data_from_snowflake\n",
    "def client_budget_and_figure(data):\n",
    "    budget_by_client = data.groupby(['Client']).agg(\n",
    "                        {'Budget_Amount': 'sum'}).reset_index().sort_values(by='Budget_Amount', ascending=False)\n",
    "\n",
    "    filtered_df = df[(df['start_date'] >= pd.to_datetime('2023-06-01')) & (df['start_date'] <= pd.to_datetime('2023-09-01'))]\n",
    "\n",
    "\n",
    "    #camp_df = filtered_df.loc[filtered_df[\"campaign_name\"] in ]\n",
    "    def camp_for_sorting(df):\n",
    "        campaigns_for_sorting = []\n",
    "        for campaigns_list in df['Campaings']:\n",
    "            for campaign in campaigns_list:\n",
    "                campaigns_for_sorting.append(campaign)\n",
    "        campaigns_for_sorting = list(set(campaigns_for_sorting))\n",
    "        return campaigns_for_sorting\n",
    "\n",
    "    campaigns_for_sorting = camp_for_sorting(data)\n",
    "\n",
    "    filtered_df_2 = filtered_df[filtered_df['campaign_name'].isin(campaigns_for_sorting)]\n",
    "    campaign_spend = filtered_df_2.groupby(['campaign_name']).agg(\n",
    "                        {'spent_amount': 'sum'}).reset_index().sort_values(by='spent_amount', ascending=False)\n",
    "\n",
    "    mapping = data.explode('Campaings')[['Client', 'Campaings']].rename(columns={'Campaings': 'campaign_name'})\n",
    "    merged = pd.merge(mapping, campaign_spend, on='campaign_name', how='left').fillna(0)\n",
    "    total_spent_per_client = merged.groupby('Client')['spent_amount'].sum().reset_index()\n",
    "    final_df = pd.merge(budget_by_client, total_spent_per_client, on='Client', how='left')\n",
    "    final_df.rename(columns={'spent_amount': 'Total_Spent'}, inplace=True)\n",
    "    final_df['Unspent'] = final_df['Budget_Amount'] - final_df['Total_Spent']\n",
    "    final_df['Percentage_spend']  = round(final_df['Total_Spent']/ final_df['Budget_Amount']*100,2)   \n",
    "    fig_spend = go.Figure()\n",
    "\n",
    "    # Adding bars for Unspent\n",
    "\n",
    "\n",
    "    # Adding bars for Total Spent\n",
    "    for index, row in final_df.iterrows():\n",
    "        fig_spend.add_trace(go.Bar(\n",
    "            x=[row['Total_Spent']],\n",
    "            y=[row['Client']],\n",
    "            name='Spent',\n",
    "            orientation='h',\n",
    "            text=f\"{row['Percentage_spend']:.2f} %\",\n",
    "            textposition='auto',\n",
    "            textfont_color = 'white',\n",
    "            marker_color=px.colors.qualitative.Plotly[1]\n",
    "        ))\n",
    "    for index, row in final_df.iterrows():\n",
    "        fig_spend.add_trace(go.Bar(\n",
    "            x=[row['Unspent']],\n",
    "            y=[row['Client']],\n",
    "            #name='Unspent',\n",
    "            orientation='h',\n",
    "            text=f\"{row['Budget_Amount']} EUR\",\n",
    "            textposition='outside',\n",
    "            marker_color=px.colors.qualitative.Plotly[2]  # Using a fixed color for Unspent\n",
    "        ))\n",
    "\n",
    "\n",
    "    # Update layout settings\n",
    "    max_budget = final_df['Budget_Amount'].max()\n",
    "\n",
    "    fig_spend.update_layout(title='Client Spent vs Budget',\n",
    "                            xaxis=dict(\n",
    "                                range=[0, max_budget * 1.10], title='EUR'),\n",
    "                            yaxis_title='',\n",
    "                            barmode='stack',\n",
    "                            showlegend=False)\n",
    "    #fig.for_each_trace(lambda t: t.update(textfont_color=t.marker.color, textposition='top center'))\n",
    "    fig_spend.show() "
   ]
  },
  {
   "cell_type": "code",
   "execution_count": 16,
   "metadata": {},
   "outputs": [
    {
     "name": "stdout",
     "output_type": "stream",
     "text": [
      "  Client  Budget_Amount  Total_Spent   Unspent  Percentage_spend\n",
      "0    MOL           5000     2879.028  2120.972             57.58\n",
      "1    WMC           2400      890.188  1509.812             37.09\n"
     ]
    }
   ],
   "source": [
    "\n",
    "budget_by_client = data_from_snowflake.groupby(['Client']).agg(\n",
    "                    {'Budget_Amount': 'sum'}).reset_index().sort_values(by='Budget_Amount', ascending=False)\n",
    "\n",
    "filtered_df = df[(df['start_date'] >= pd.to_datetime('2023-06-01')) & (df['start_date'] <= pd.to_datetime('2023-09-01'))]\n",
    "\n",
    "\n",
    "#camp_df = filtered_df.loc[filtered_df[\"campaign_name\"] in ]\n",
    "def camp_for_sorting(df):\n",
    "    campaigns_for_sorting = []\n",
    "    for campaigns_list in df['Campaings']:\n",
    "        for campaign in campaigns_list:\n",
    "            campaigns_for_sorting.append(campaign)\n",
    "    campaigns_for_sorting = list(set(campaigns_for_sorting))\n",
    "    return campaigns_for_sorting\n",
    "\n",
    "campaigns_for_sorting = camp_for_sorting(data_from_snowflake)\n",
    "\n",
    "filtered_df_2 = filtered_df[filtered_df['campaign_name'].isin(campaigns_for_sorting)]\n",
    "campaign_spend = filtered_df_2.groupby(['campaign_name']).agg(\n",
    "                    {'spent_amount': 'sum'}).reset_index().sort_values(by='spent_amount', ascending=False)\n",
    "\n",
    "mapping = data_from_snowflake.explode('Campaings')[['Client', 'Campaings']].rename(columns={'Campaings': 'campaign_name'})\n",
    "merged = pd.merge(mapping, campaign_spend, on='campaign_name', how='left').fillna(0)\n",
    "total_spent_per_client = merged.groupby('Client')['spent_amount'].sum().reset_index()\n",
    "final_df = pd.merge(budget_by_client, total_spent_per_client, on='Client', how='left')\n",
    "final_df.rename(columns={'spent_amount': 'Total_Spent'}, inplace=True)\n",
    "final_df['Unspent'] = final_df['Budget_Amount'] - final_df['Total_Spent']\n",
    "final_df['Percentage_spend']  = round(final_df['Total_Spent']/ final_df['Budget_Amount']*100,2)\n",
    "\n",
    "\n",
    "#df_current_budget_situatuin_by_client\n",
    "print(final_df)\n",
    "\n"
   ]
  },
  {
   "cell_type": "code",
   "execution_count": 47,
   "metadata": {},
   "outputs": [
    {
     "data": {
      "application/vnd.plotly.v1+json": {
       "config": {
        "plotlyServerURL": "https://plot.ly"
       },
       "data": [
        {
         "marker": {
          "color": "#EF553B"
         },
         "name": "Spent",
         "orientation": "h",
         "text": "57.58 %",
         "textfont": {
          "color": "white"
         },
         "textposition": "auto",
         "type": "bar",
         "x": [
          2879.028
         ],
         "y": [
          "MOL"
         ]
        },
        {
         "marker": {
          "color": "#EF553B"
         },
         "name": "Spent",
         "orientation": "h",
         "text": "37.09 %",
         "textfont": {
          "color": "white"
         },
         "textposition": "auto",
         "type": "bar",
         "x": [
          890.188
         ],
         "y": [
          "WMC"
         ]
        },
        {
         "marker": {
          "color": "#00CC96"
         },
         "orientation": "h",
         "text": "5000 EUR",
         "textposition": "outside",
         "type": "bar",
         "x": [
          2120.972
         ],
         "y": [
          "MOL"
         ]
        },
        {
         "marker": {
          "color": "#00CC96"
         },
         "orientation": "h",
         "text": "2400 EUR",
         "textposition": "outside",
         "type": "bar",
         "x": [
          1509.812
         ],
         "y": [
          "WMC"
         ]
        }
       ],
       "layout": {
        "barmode": "stack",
        "showlegend": false,
        "template": {
         "data": {
          "bar": [
           {
            "error_x": {
             "color": "#2a3f5f"
            },
            "error_y": {
             "color": "#2a3f5f"
            },
            "marker": {
             "line": {
              "color": "#E5ECF6",
              "width": 0.5
             },
             "pattern": {
              "fillmode": "overlay",
              "size": 10,
              "solidity": 0.2
             }
            },
            "type": "bar"
           }
          ],
          "barpolar": [
           {
            "marker": {
             "line": {
              "color": "#E5ECF6",
              "width": 0.5
             },
             "pattern": {
              "fillmode": "overlay",
              "size": 10,
              "solidity": 0.2
             }
            },
            "type": "barpolar"
           }
          ],
          "carpet": [
           {
            "aaxis": {
             "endlinecolor": "#2a3f5f",
             "gridcolor": "white",
             "linecolor": "white",
             "minorgridcolor": "white",
             "startlinecolor": "#2a3f5f"
            },
            "baxis": {
             "endlinecolor": "#2a3f5f",
             "gridcolor": "white",
             "linecolor": "white",
             "minorgridcolor": "white",
             "startlinecolor": "#2a3f5f"
            },
            "type": "carpet"
           }
          ],
          "choropleth": [
           {
            "colorbar": {
             "outlinewidth": 0,
             "ticks": ""
            },
            "type": "choropleth"
           }
          ],
          "contour": [
           {
            "colorbar": {
             "outlinewidth": 0,
             "ticks": ""
            },
            "colorscale": [
             [
              0,
              "#0d0887"
             ],
             [
              0.1111111111111111,
              "#46039f"
             ],
             [
              0.2222222222222222,
              "#7201a8"
             ],
             [
              0.3333333333333333,
              "#9c179e"
             ],
             [
              0.4444444444444444,
              "#bd3786"
             ],
             [
              0.5555555555555556,
              "#d8576b"
             ],
             [
              0.6666666666666666,
              "#ed7953"
             ],
             [
              0.7777777777777778,
              "#fb9f3a"
             ],
             [
              0.8888888888888888,
              "#fdca26"
             ],
             [
              1,
              "#f0f921"
             ]
            ],
            "type": "contour"
           }
          ],
          "contourcarpet": [
           {
            "colorbar": {
             "outlinewidth": 0,
             "ticks": ""
            },
            "type": "contourcarpet"
           }
          ],
          "heatmap": [
           {
            "colorbar": {
             "outlinewidth": 0,
             "ticks": ""
            },
            "colorscale": [
             [
              0,
              "#0d0887"
             ],
             [
              0.1111111111111111,
              "#46039f"
             ],
             [
              0.2222222222222222,
              "#7201a8"
             ],
             [
              0.3333333333333333,
              "#9c179e"
             ],
             [
              0.4444444444444444,
              "#bd3786"
             ],
             [
              0.5555555555555556,
              "#d8576b"
             ],
             [
              0.6666666666666666,
              "#ed7953"
             ],
             [
              0.7777777777777778,
              "#fb9f3a"
             ],
             [
              0.8888888888888888,
              "#fdca26"
             ],
             [
              1,
              "#f0f921"
             ]
            ],
            "type": "heatmap"
           }
          ],
          "heatmapgl": [
           {
            "colorbar": {
             "outlinewidth": 0,
             "ticks": ""
            },
            "colorscale": [
             [
              0,
              "#0d0887"
             ],
             [
              0.1111111111111111,
              "#46039f"
             ],
             [
              0.2222222222222222,
              "#7201a8"
             ],
             [
              0.3333333333333333,
              "#9c179e"
             ],
             [
              0.4444444444444444,
              "#bd3786"
             ],
             [
              0.5555555555555556,
              "#d8576b"
             ],
             [
              0.6666666666666666,
              "#ed7953"
             ],
             [
              0.7777777777777778,
              "#fb9f3a"
             ],
             [
              0.8888888888888888,
              "#fdca26"
             ],
             [
              1,
              "#f0f921"
             ]
            ],
            "type": "heatmapgl"
           }
          ],
          "histogram": [
           {
            "marker": {
             "pattern": {
              "fillmode": "overlay",
              "size": 10,
              "solidity": 0.2
             }
            },
            "type": "histogram"
           }
          ],
          "histogram2d": [
           {
            "colorbar": {
             "outlinewidth": 0,
             "ticks": ""
            },
            "colorscale": [
             [
              0,
              "#0d0887"
             ],
             [
              0.1111111111111111,
              "#46039f"
             ],
             [
              0.2222222222222222,
              "#7201a8"
             ],
             [
              0.3333333333333333,
              "#9c179e"
             ],
             [
              0.4444444444444444,
              "#bd3786"
             ],
             [
              0.5555555555555556,
              "#d8576b"
             ],
             [
              0.6666666666666666,
              "#ed7953"
             ],
             [
              0.7777777777777778,
              "#fb9f3a"
             ],
             [
              0.8888888888888888,
              "#fdca26"
             ],
             [
              1,
              "#f0f921"
             ]
            ],
            "type": "histogram2d"
           }
          ],
          "histogram2dcontour": [
           {
            "colorbar": {
             "outlinewidth": 0,
             "ticks": ""
            },
            "colorscale": [
             [
              0,
              "#0d0887"
             ],
             [
              0.1111111111111111,
              "#46039f"
             ],
             [
              0.2222222222222222,
              "#7201a8"
             ],
             [
              0.3333333333333333,
              "#9c179e"
             ],
             [
              0.4444444444444444,
              "#bd3786"
             ],
             [
              0.5555555555555556,
              "#d8576b"
             ],
             [
              0.6666666666666666,
              "#ed7953"
             ],
             [
              0.7777777777777778,
              "#fb9f3a"
             ],
             [
              0.8888888888888888,
              "#fdca26"
             ],
             [
              1,
              "#f0f921"
             ]
            ],
            "type": "histogram2dcontour"
           }
          ],
          "mesh3d": [
           {
            "colorbar": {
             "outlinewidth": 0,
             "ticks": ""
            },
            "type": "mesh3d"
           }
          ],
          "parcoords": [
           {
            "line": {
             "colorbar": {
              "outlinewidth": 0,
              "ticks": ""
             }
            },
            "type": "parcoords"
           }
          ],
          "pie": [
           {
            "automargin": true,
            "type": "pie"
           }
          ],
          "scatter": [
           {
            "fillpattern": {
             "fillmode": "overlay",
             "size": 10,
             "solidity": 0.2
            },
            "type": "scatter"
           }
          ],
          "scatter3d": [
           {
            "line": {
             "colorbar": {
              "outlinewidth": 0,
              "ticks": ""
             }
            },
            "marker": {
             "colorbar": {
              "outlinewidth": 0,
              "ticks": ""
             }
            },
            "type": "scatter3d"
           }
          ],
          "scattercarpet": [
           {
            "marker": {
             "colorbar": {
              "outlinewidth": 0,
              "ticks": ""
             }
            },
            "type": "scattercarpet"
           }
          ],
          "scattergeo": [
           {
            "marker": {
             "colorbar": {
              "outlinewidth": 0,
              "ticks": ""
             }
            },
            "type": "scattergeo"
           }
          ],
          "scattergl": [
           {
            "marker": {
             "colorbar": {
              "outlinewidth": 0,
              "ticks": ""
             }
            },
            "type": "scattergl"
           }
          ],
          "scattermapbox": [
           {
            "marker": {
             "colorbar": {
              "outlinewidth": 0,
              "ticks": ""
             }
            },
            "type": "scattermapbox"
           }
          ],
          "scatterpolar": [
           {
            "marker": {
             "colorbar": {
              "outlinewidth": 0,
              "ticks": ""
             }
            },
            "type": "scatterpolar"
           }
          ],
          "scatterpolargl": [
           {
            "marker": {
             "colorbar": {
              "outlinewidth": 0,
              "ticks": ""
             }
            },
            "type": "scatterpolargl"
           }
          ],
          "scatterternary": [
           {
            "marker": {
             "colorbar": {
              "outlinewidth": 0,
              "ticks": ""
             }
            },
            "type": "scatterternary"
           }
          ],
          "surface": [
           {
            "colorbar": {
             "outlinewidth": 0,
             "ticks": ""
            },
            "colorscale": [
             [
              0,
              "#0d0887"
             ],
             [
              0.1111111111111111,
              "#46039f"
             ],
             [
              0.2222222222222222,
              "#7201a8"
             ],
             [
              0.3333333333333333,
              "#9c179e"
             ],
             [
              0.4444444444444444,
              "#bd3786"
             ],
             [
              0.5555555555555556,
              "#d8576b"
             ],
             [
              0.6666666666666666,
              "#ed7953"
             ],
             [
              0.7777777777777778,
              "#fb9f3a"
             ],
             [
              0.8888888888888888,
              "#fdca26"
             ],
             [
              1,
              "#f0f921"
             ]
            ],
            "type": "surface"
           }
          ],
          "table": [
           {
            "cells": {
             "fill": {
              "color": "#EBF0F8"
             },
             "line": {
              "color": "white"
             }
            },
            "header": {
             "fill": {
              "color": "#C8D4E3"
             },
             "line": {
              "color": "white"
             }
            },
            "type": "table"
           }
          ]
         },
         "layout": {
          "annotationdefaults": {
           "arrowcolor": "#2a3f5f",
           "arrowhead": 0,
           "arrowwidth": 1
          },
          "autotypenumbers": "strict",
          "coloraxis": {
           "colorbar": {
            "outlinewidth": 0,
            "ticks": ""
           }
          },
          "colorscale": {
           "diverging": [
            [
             0,
             "#8e0152"
            ],
            [
             0.1,
             "#c51b7d"
            ],
            [
             0.2,
             "#de77ae"
            ],
            [
             0.3,
             "#f1b6da"
            ],
            [
             0.4,
             "#fde0ef"
            ],
            [
             0.5,
             "#f7f7f7"
            ],
            [
             0.6,
             "#e6f5d0"
            ],
            [
             0.7,
             "#b8e186"
            ],
            [
             0.8,
             "#7fbc41"
            ],
            [
             0.9,
             "#4d9221"
            ],
            [
             1,
             "#276419"
            ]
           ],
           "sequential": [
            [
             0,
             "#0d0887"
            ],
            [
             0.1111111111111111,
             "#46039f"
            ],
            [
             0.2222222222222222,
             "#7201a8"
            ],
            [
             0.3333333333333333,
             "#9c179e"
            ],
            [
             0.4444444444444444,
             "#bd3786"
            ],
            [
             0.5555555555555556,
             "#d8576b"
            ],
            [
             0.6666666666666666,
             "#ed7953"
            ],
            [
             0.7777777777777778,
             "#fb9f3a"
            ],
            [
             0.8888888888888888,
             "#fdca26"
            ],
            [
             1,
             "#f0f921"
            ]
           ],
           "sequentialminus": [
            [
             0,
             "#0d0887"
            ],
            [
             0.1111111111111111,
             "#46039f"
            ],
            [
             0.2222222222222222,
             "#7201a8"
            ],
            [
             0.3333333333333333,
             "#9c179e"
            ],
            [
             0.4444444444444444,
             "#bd3786"
            ],
            [
             0.5555555555555556,
             "#d8576b"
            ],
            [
             0.6666666666666666,
             "#ed7953"
            ],
            [
             0.7777777777777778,
             "#fb9f3a"
            ],
            [
             0.8888888888888888,
             "#fdca26"
            ],
            [
             1,
             "#f0f921"
            ]
           ]
          },
          "colorway": [
           "#636efa",
           "#EF553B",
           "#00cc96",
           "#ab63fa",
           "#FFA15A",
           "#19d3f3",
           "#FF6692",
           "#B6E880",
           "#FF97FF",
           "#FECB52"
          ],
          "font": {
           "color": "#2a3f5f"
          },
          "geo": {
           "bgcolor": "white",
           "lakecolor": "white",
           "landcolor": "#E5ECF6",
           "showlakes": true,
           "showland": true,
           "subunitcolor": "white"
          },
          "hoverlabel": {
           "align": "left"
          },
          "hovermode": "closest",
          "mapbox": {
           "style": "light"
          },
          "paper_bgcolor": "white",
          "plot_bgcolor": "#E5ECF6",
          "polar": {
           "angularaxis": {
            "gridcolor": "white",
            "linecolor": "white",
            "ticks": ""
           },
           "bgcolor": "#E5ECF6",
           "radialaxis": {
            "gridcolor": "white",
            "linecolor": "white",
            "ticks": ""
           }
          },
          "scene": {
           "xaxis": {
            "backgroundcolor": "#E5ECF6",
            "gridcolor": "white",
            "gridwidth": 2,
            "linecolor": "white",
            "showbackground": true,
            "ticks": "",
            "zerolinecolor": "white"
           },
           "yaxis": {
            "backgroundcolor": "#E5ECF6",
            "gridcolor": "white",
            "gridwidth": 2,
            "linecolor": "white",
            "showbackground": true,
            "ticks": "",
            "zerolinecolor": "white"
           },
           "zaxis": {
            "backgroundcolor": "#E5ECF6",
            "gridcolor": "white",
            "gridwidth": 2,
            "linecolor": "white",
            "showbackground": true,
            "ticks": "",
            "zerolinecolor": "white"
           }
          },
          "shapedefaults": {
           "line": {
            "color": "#2a3f5f"
           }
          },
          "ternary": {
           "aaxis": {
            "gridcolor": "white",
            "linecolor": "white",
            "ticks": ""
           },
           "baxis": {
            "gridcolor": "white",
            "linecolor": "white",
            "ticks": ""
           },
           "bgcolor": "#E5ECF6",
           "caxis": {
            "gridcolor": "white",
            "linecolor": "white",
            "ticks": ""
           }
          },
          "title": {
           "x": 0.05
          },
          "xaxis": {
           "automargin": true,
           "gridcolor": "white",
           "linecolor": "white",
           "ticks": "",
           "title": {
            "standoff": 15
           },
           "zerolinecolor": "white",
           "zerolinewidth": 2
          },
          "yaxis": {
           "automargin": true,
           "gridcolor": "white",
           "linecolor": "white",
           "ticks": "",
           "title": {
            "standoff": 15
           },
           "zerolinecolor": "white",
           "zerolinewidth": 2
          }
         }
        },
        "title": {
         "text": "Client Spent vs Budget"
        },
        "xaxis": {
         "range": [
          0,
          5500
         ],
         "title": {
          "text": "EUR"
         }
        },
        "yaxis": {
         "title": {
          "text": ""
         }
        }
       }
      }
     },
     "metadata": {},
     "output_type": "display_data"
    }
   ],
   "source": [
    "fig_spend = go.Figure()\n",
    "\n",
    "# Adding bars for Unspent\n",
    "\n",
    "\n",
    "# Adding bars for Total Spent\n",
    "for index, row in final_df.iterrows():\n",
    "    fig_spend.add_trace(go.Bar(\n",
    "        x=[row['Total_Spent']],\n",
    "        y=[row['Client']],\n",
    "        name='Spent',\n",
    "        orientation='h',\n",
    "        text=f\"{row['Percentage_spend']:.2f} %\",\n",
    "        textposition='auto',\n",
    "        textfont_color = 'white',\n",
    "        marker_color=px.colors.qualitative.Plotly[1]\n",
    "    ))\n",
    "for index, row in final_df.iterrows():\n",
    "    fig_spend.add_trace(go.Bar(\n",
    "        x=[row['Unspent']],\n",
    "        y=[row['Client']],\n",
    "        #name='Unspent',\n",
    "        orientation='h',\n",
    "        text=f\"{row['Budget_Amount']} EUR\",\n",
    "        textposition='outside',\n",
    "        marker_color=px.colors.qualitative.Plotly[2]  # Using a fixed color for Unspent\n",
    "    ))\n",
    "\n",
    "\n",
    "# Update layout settings\n",
    "max_budget = final_df['Budget_Amount'].max()\n",
    "\n",
    "fig_spend.update_layout(title='Client Spent vs Budget',\n",
    "                        xaxis=dict(\n",
    "                            range=[0, max_budget * 1.10], title='EUR'),\n",
    "                        yaxis_title='',\n",
    "                        barmode='stack',\n",
    "                        showlegend=False)\n",
    "#fig.for_each_trace(lambda t: t.update(textfont_color=t.marker.color, textposition='top center'))\n",
    "fig_spend.show()\n",
    "#st.plotly_chart(fig_spend, use_container_width=True)"
   ]
  },
  {
   "cell_type": "code",
   "execution_count": 25,
   "metadata": {},
   "outputs": [
    {
     "data": {
      "application/vnd.plotly.v1+json": {
       "config": {
        "plotlyServerURL": "https://plot.ly"
       },
       "data": [
        {
         "link": {
          "source": [
           0,
           1,
           2,
           2
          ],
          "target": [
           2,
           2,
           3,
           4
          ],
          "value": [
           10,
           2,
           6,
           4
          ]
         },
         "node": {
          "label": [
           "Income",
           "Other Income",
           "Total Income",
           "Rent",
           "Food"
          ],
          "pad": 50,
          "thickness": 5
         },
         "type": "sankey"
        }
       ],
       "layout": {
        "template": {
         "data": {
          "bar": [
           {
            "error_x": {
             "color": "#2a3f5f"
            },
            "error_y": {
             "color": "#2a3f5f"
            },
            "marker": {
             "line": {
              "color": "#E5ECF6",
              "width": 0.5
             },
             "pattern": {
              "fillmode": "overlay",
              "size": 10,
              "solidity": 0.2
             }
            },
            "type": "bar"
           }
          ],
          "barpolar": [
           {
            "marker": {
             "line": {
              "color": "#E5ECF6",
              "width": 0.5
             },
             "pattern": {
              "fillmode": "overlay",
              "size": 10,
              "solidity": 0.2
             }
            },
            "type": "barpolar"
           }
          ],
          "carpet": [
           {
            "aaxis": {
             "endlinecolor": "#2a3f5f",
             "gridcolor": "white",
             "linecolor": "white",
             "minorgridcolor": "white",
             "startlinecolor": "#2a3f5f"
            },
            "baxis": {
             "endlinecolor": "#2a3f5f",
             "gridcolor": "white",
             "linecolor": "white",
             "minorgridcolor": "white",
             "startlinecolor": "#2a3f5f"
            },
            "type": "carpet"
           }
          ],
          "choropleth": [
           {
            "colorbar": {
             "outlinewidth": 0,
             "ticks": ""
            },
            "type": "choropleth"
           }
          ],
          "contour": [
           {
            "colorbar": {
             "outlinewidth": 0,
             "ticks": ""
            },
            "colorscale": [
             [
              0,
              "#0d0887"
             ],
             [
              0.1111111111111111,
              "#46039f"
             ],
             [
              0.2222222222222222,
              "#7201a8"
             ],
             [
              0.3333333333333333,
              "#9c179e"
             ],
             [
              0.4444444444444444,
              "#bd3786"
             ],
             [
              0.5555555555555556,
              "#d8576b"
             ],
             [
              0.6666666666666666,
              "#ed7953"
             ],
             [
              0.7777777777777778,
              "#fb9f3a"
             ],
             [
              0.8888888888888888,
              "#fdca26"
             ],
             [
              1,
              "#f0f921"
             ]
            ],
            "type": "contour"
           }
          ],
          "contourcarpet": [
           {
            "colorbar": {
             "outlinewidth": 0,
             "ticks": ""
            },
            "type": "contourcarpet"
           }
          ],
          "heatmap": [
           {
            "colorbar": {
             "outlinewidth": 0,
             "ticks": ""
            },
            "colorscale": [
             [
              0,
              "#0d0887"
             ],
             [
              0.1111111111111111,
              "#46039f"
             ],
             [
              0.2222222222222222,
              "#7201a8"
             ],
             [
              0.3333333333333333,
              "#9c179e"
             ],
             [
              0.4444444444444444,
              "#bd3786"
             ],
             [
              0.5555555555555556,
              "#d8576b"
             ],
             [
              0.6666666666666666,
              "#ed7953"
             ],
             [
              0.7777777777777778,
              "#fb9f3a"
             ],
             [
              0.8888888888888888,
              "#fdca26"
             ],
             [
              1,
              "#f0f921"
             ]
            ],
            "type": "heatmap"
           }
          ],
          "heatmapgl": [
           {
            "colorbar": {
             "outlinewidth": 0,
             "ticks": ""
            },
            "colorscale": [
             [
              0,
              "#0d0887"
             ],
             [
              0.1111111111111111,
              "#46039f"
             ],
             [
              0.2222222222222222,
              "#7201a8"
             ],
             [
              0.3333333333333333,
              "#9c179e"
             ],
             [
              0.4444444444444444,
              "#bd3786"
             ],
             [
              0.5555555555555556,
              "#d8576b"
             ],
             [
              0.6666666666666666,
              "#ed7953"
             ],
             [
              0.7777777777777778,
              "#fb9f3a"
             ],
             [
              0.8888888888888888,
              "#fdca26"
             ],
             [
              1,
              "#f0f921"
             ]
            ],
            "type": "heatmapgl"
           }
          ],
          "histogram": [
           {
            "marker": {
             "pattern": {
              "fillmode": "overlay",
              "size": 10,
              "solidity": 0.2
             }
            },
            "type": "histogram"
           }
          ],
          "histogram2d": [
           {
            "colorbar": {
             "outlinewidth": 0,
             "ticks": ""
            },
            "colorscale": [
             [
              0,
              "#0d0887"
             ],
             [
              0.1111111111111111,
              "#46039f"
             ],
             [
              0.2222222222222222,
              "#7201a8"
             ],
             [
              0.3333333333333333,
              "#9c179e"
             ],
             [
              0.4444444444444444,
              "#bd3786"
             ],
             [
              0.5555555555555556,
              "#d8576b"
             ],
             [
              0.6666666666666666,
              "#ed7953"
             ],
             [
              0.7777777777777778,
              "#fb9f3a"
             ],
             [
              0.8888888888888888,
              "#fdca26"
             ],
             [
              1,
              "#f0f921"
             ]
            ],
            "type": "histogram2d"
           }
          ],
          "histogram2dcontour": [
           {
            "colorbar": {
             "outlinewidth": 0,
             "ticks": ""
            },
            "colorscale": [
             [
              0,
              "#0d0887"
             ],
             [
              0.1111111111111111,
              "#46039f"
             ],
             [
              0.2222222222222222,
              "#7201a8"
             ],
             [
              0.3333333333333333,
              "#9c179e"
             ],
             [
              0.4444444444444444,
              "#bd3786"
             ],
             [
              0.5555555555555556,
              "#d8576b"
             ],
             [
              0.6666666666666666,
              "#ed7953"
             ],
             [
              0.7777777777777778,
              "#fb9f3a"
             ],
             [
              0.8888888888888888,
              "#fdca26"
             ],
             [
              1,
              "#f0f921"
             ]
            ],
            "type": "histogram2dcontour"
           }
          ],
          "mesh3d": [
           {
            "colorbar": {
             "outlinewidth": 0,
             "ticks": ""
            },
            "type": "mesh3d"
           }
          ],
          "parcoords": [
           {
            "line": {
             "colorbar": {
              "outlinewidth": 0,
              "ticks": ""
             }
            },
            "type": "parcoords"
           }
          ],
          "pie": [
           {
            "automargin": true,
            "type": "pie"
           }
          ],
          "scatter": [
           {
            "fillpattern": {
             "fillmode": "overlay",
             "size": 10,
             "solidity": 0.2
            },
            "type": "scatter"
           }
          ],
          "scatter3d": [
           {
            "line": {
             "colorbar": {
              "outlinewidth": 0,
              "ticks": ""
             }
            },
            "marker": {
             "colorbar": {
              "outlinewidth": 0,
              "ticks": ""
             }
            },
            "type": "scatter3d"
           }
          ],
          "scattercarpet": [
           {
            "marker": {
             "colorbar": {
              "outlinewidth": 0,
              "ticks": ""
             }
            },
            "type": "scattercarpet"
           }
          ],
          "scattergeo": [
           {
            "marker": {
             "colorbar": {
              "outlinewidth": 0,
              "ticks": ""
             }
            },
            "type": "scattergeo"
           }
          ],
          "scattergl": [
           {
            "marker": {
             "colorbar": {
              "outlinewidth": 0,
              "ticks": ""
             }
            },
            "type": "scattergl"
           }
          ],
          "scattermapbox": [
           {
            "marker": {
             "colorbar": {
              "outlinewidth": 0,
              "ticks": ""
             }
            },
            "type": "scattermapbox"
           }
          ],
          "scatterpolar": [
           {
            "marker": {
             "colorbar": {
              "outlinewidth": 0,
              "ticks": ""
             }
            },
            "type": "scatterpolar"
           }
          ],
          "scatterpolargl": [
           {
            "marker": {
             "colorbar": {
              "outlinewidth": 0,
              "ticks": ""
             }
            },
            "type": "scatterpolargl"
           }
          ],
          "scatterternary": [
           {
            "marker": {
             "colorbar": {
              "outlinewidth": 0,
              "ticks": ""
             }
            },
            "type": "scatterternary"
           }
          ],
          "surface": [
           {
            "colorbar": {
             "outlinewidth": 0,
             "ticks": ""
            },
            "colorscale": [
             [
              0,
              "#0d0887"
             ],
             [
              0.1111111111111111,
              "#46039f"
             ],
             [
              0.2222222222222222,
              "#7201a8"
             ],
             [
              0.3333333333333333,
              "#9c179e"
             ],
             [
              0.4444444444444444,
              "#bd3786"
             ],
             [
              0.5555555555555556,
              "#d8576b"
             ],
             [
              0.6666666666666666,
              "#ed7953"
             ],
             [
              0.7777777777777778,
              "#fb9f3a"
             ],
             [
              0.8888888888888888,
              "#fdca26"
             ],
             [
              1,
              "#f0f921"
             ]
            ],
            "type": "surface"
           }
          ],
          "table": [
           {
            "cells": {
             "fill": {
              "color": "#EBF0F8"
             },
             "line": {
              "color": "white"
             }
            },
            "header": {
             "fill": {
              "color": "#C8D4E3"
             },
             "line": {
              "color": "white"
             }
            },
            "type": "table"
           }
          ]
         },
         "layout": {
          "annotationdefaults": {
           "arrowcolor": "#2a3f5f",
           "arrowhead": 0,
           "arrowwidth": 1
          },
          "autotypenumbers": "strict",
          "coloraxis": {
           "colorbar": {
            "outlinewidth": 0,
            "ticks": ""
           }
          },
          "colorscale": {
           "diverging": [
            [
             0,
             "#8e0152"
            ],
            [
             0.1,
             "#c51b7d"
            ],
            [
             0.2,
             "#de77ae"
            ],
            [
             0.3,
             "#f1b6da"
            ],
            [
             0.4,
             "#fde0ef"
            ],
            [
             0.5,
             "#f7f7f7"
            ],
            [
             0.6,
             "#e6f5d0"
            ],
            [
             0.7,
             "#b8e186"
            ],
            [
             0.8,
             "#7fbc41"
            ],
            [
             0.9,
             "#4d9221"
            ],
            [
             1,
             "#276419"
            ]
           ],
           "sequential": [
            [
             0,
             "#0d0887"
            ],
            [
             0.1111111111111111,
             "#46039f"
            ],
            [
             0.2222222222222222,
             "#7201a8"
            ],
            [
             0.3333333333333333,
             "#9c179e"
            ],
            [
             0.4444444444444444,
             "#bd3786"
            ],
            [
             0.5555555555555556,
             "#d8576b"
            ],
            [
             0.6666666666666666,
             "#ed7953"
            ],
            [
             0.7777777777777778,
             "#fb9f3a"
            ],
            [
             0.8888888888888888,
             "#fdca26"
            ],
            [
             1,
             "#f0f921"
            ]
           ],
           "sequentialminus": [
            [
             0,
             "#0d0887"
            ],
            [
             0.1111111111111111,
             "#46039f"
            ],
            [
             0.2222222222222222,
             "#7201a8"
            ],
            [
             0.3333333333333333,
             "#9c179e"
            ],
            [
             0.4444444444444444,
             "#bd3786"
            ],
            [
             0.5555555555555556,
             "#d8576b"
            ],
            [
             0.6666666666666666,
             "#ed7953"
            ],
            [
             0.7777777777777778,
             "#fb9f3a"
            ],
            [
             0.8888888888888888,
             "#fdca26"
            ],
            [
             1,
             "#f0f921"
            ]
           ]
          },
          "colorway": [
           "#636efa",
           "#EF553B",
           "#00cc96",
           "#ab63fa",
           "#FFA15A",
           "#19d3f3",
           "#FF6692",
           "#B6E880",
           "#FF97FF",
           "#FECB52"
          ],
          "font": {
           "color": "#2a3f5f"
          },
          "geo": {
           "bgcolor": "white",
           "lakecolor": "white",
           "landcolor": "#E5ECF6",
           "showlakes": true,
           "showland": true,
           "subunitcolor": "white"
          },
          "hoverlabel": {
           "align": "left"
          },
          "hovermode": "closest",
          "mapbox": {
           "style": "light"
          },
          "paper_bgcolor": "white",
          "plot_bgcolor": "#E5ECF6",
          "polar": {
           "angularaxis": {
            "gridcolor": "white",
            "linecolor": "white",
            "ticks": ""
           },
           "bgcolor": "#E5ECF6",
           "radialaxis": {
            "gridcolor": "white",
            "linecolor": "white",
            "ticks": ""
           }
          },
          "scene": {
           "xaxis": {
            "backgroundcolor": "#E5ECF6",
            "gridcolor": "white",
            "gridwidth": 2,
            "linecolor": "white",
            "showbackground": true,
            "ticks": "",
            "zerolinecolor": "white"
           },
           "yaxis": {
            "backgroundcolor": "#E5ECF6",
            "gridcolor": "white",
            "gridwidth": 2,
            "linecolor": "white",
            "showbackground": true,
            "ticks": "",
            "zerolinecolor": "white"
           },
           "zaxis": {
            "backgroundcolor": "#E5ECF6",
            "gridcolor": "white",
            "gridwidth": 2,
            "linecolor": "white",
            "showbackground": true,
            "ticks": "",
            "zerolinecolor": "white"
           }
          },
          "shapedefaults": {
           "line": {
            "color": "#2a3f5f"
           }
          },
          "ternary": {
           "aaxis": {
            "gridcolor": "white",
            "linecolor": "white",
            "ticks": ""
           },
           "baxis": {
            "gridcolor": "white",
            "linecolor": "white",
            "ticks": ""
           },
           "bgcolor": "#E5ECF6",
           "caxis": {
            "gridcolor": "white",
            "linecolor": "white",
            "ticks": ""
           }
          },
          "title": {
           "x": 0.05
          },
          "xaxis": {
           "automargin": true,
           "gridcolor": "white",
           "linecolor": "white",
           "ticks": "",
           "title": {
            "standoff": 15
           },
           "zerolinecolor": "white",
           "zerolinewidth": 2
          },
          "yaxis": {
           "automargin": true,
           "gridcolor": "white",
           "linecolor": "white",
           "ticks": "",
           "title": {
            "standoff": 15
           },
           "zerolinecolor": "white",
           "zerolinewidth": 2
          }
         }
        }
       }
      }
     },
     "metadata": {},
     "output_type": "display_data"
    }
   ],
   "source": [
    "# data\n",
    "label = [\"Income\", \"Other Income\", \"Total Income\", \"Rent\", \"Food\"]\n",
    "source = [0, 1, 2, 2]\n",
    "target = [2, 2, 3, 4]\n",
    "value = [10, 2, 6, 4]\n",
    "\n",
    "# data to dict, dict to sankey\n",
    "link = dict(source = source, target = target, value = value)\n",
    "node = dict(label = label, pad=50, thickness=5)\n",
    "data = go.Sankey(link = link, node=node)\n",
    "\n",
    "# plot\n",
    "fig = go.Figure(data)\n",
    "fig.show()"
   ]
  },
  {
   "cell_type": "code",
   "execution_count": 72,
   "metadata": {},
   "outputs": [
    {
     "ename": "NameError",
     "evalue": "name 'filtered_df' is not defined",
     "output_type": "error",
     "traceback": [
      "\u001b[0;31m---------------------------------------------------------------------------\u001b[0m",
      "\u001b[0;31mNameError\u001b[0m                                 Traceback (most recent call last)",
      "\u001b[0;32m/var/folders/rd/l77bltt96_97jdz4bbkmq5z40000gn/T/ipykernel_28868/2043183093.py\u001b[0m in \u001b[0;36m<module>\u001b[0;34m\u001b[0m\n\u001b[0;32m----> 1\u001b[0;31m \u001b[0mfiltered_df\u001b[0m\u001b[0;34m.\u001b[0m\u001b[0mcolumns\u001b[0m\u001b[0;34m\u001b[0m\u001b[0;34m\u001b[0m\u001b[0m\n\u001b[0m",
      "\u001b[0;31mNameError\u001b[0m: name 'filtered_df' is not defined"
     ]
    }
   ],
   "source": [
    "filtered_df.columns"
   ]
  },
  {
   "cell_type": "code",
   "execution_count": 79,
   "metadata": {},
   "outputs": [
    {
     "data": {
      "text/html": [
       "<div>\n",
       "<style scoped>\n",
       "    .dataframe tbody tr th:only-of-type {\n",
       "        vertical-align: middle;\n",
       "    }\n",
       "\n",
       "    .dataframe tbody tr th {\n",
       "        vertical-align: top;\n",
       "    }\n",
       "\n",
       "    .dataframe thead th {\n",
       "        text-align: right;\n",
       "    }\n",
       "</style>\n",
       "<table border=\"1\" class=\"dataframe\">\n",
       "  <thead>\n",
       "    <tr style=\"text-align: right;\">\n",
       "      <th></th>\n",
       "      <th>platform_id</th>\n",
       "      <th>campaign_name</th>\n",
       "      <th>spent_amount</th>\n",
       "    </tr>\n",
       "  </thead>\n",
       "  <tbody>\n",
       "    <tr>\n",
       "      <th>7</th>\n",
       "      <td>FACEBOOK</td>\n",
       "      <td>FACEBOOK-MOL - FB+IG - link clicks - PWG kampa...</td>\n",
       "      <td>1601.830</td>\n",
       "    </tr>\n",
       "    <tr>\n",
       "      <th>19</th>\n",
       "      <td>FACEBOOK</td>\n",
       "      <td>FACEBOOK-MOL - video views - FB - MOL MOVE kam...</td>\n",
       "      <td>1035.550</td>\n",
       "    </tr>\n",
       "    <tr>\n",
       "      <th>15</th>\n",
       "      <td>FACEBOOK</td>\n",
       "      <td>FACEBOOK-MOL - link clicks - FB+IG - MOL MOVE ...</td>\n",
       "      <td>887.110</td>\n",
       "    </tr>\n",
       "    <tr>\n",
       "      <th>2</th>\n",
       "      <td>FACEBOOK</td>\n",
       "      <td>FACEBOOK-MOL - FB - video views - PWG kampaň -...</td>\n",
       "      <td>448.000</td>\n",
       "    </tr>\n",
       "    <tr>\n",
       "      <th>26</th>\n",
       "      <td>LINKEDIN</td>\n",
       "      <td>LINKEDIN-MOL - link clicks - LI - Provozovatel...</td>\n",
       "      <td>428.664</td>\n",
       "    </tr>\n",
       "    <tr>\n",
       "      <th>21</th>\n",
       "      <td>FACEBOOK</td>\n",
       "      <td>FACEBOOK-MOL - video views - IG - MOL MOVE kam...</td>\n",
       "      <td>342.860</td>\n",
       "    </tr>\n",
       "    <tr>\n",
       "      <th>14</th>\n",
       "      <td>FACEBOOK</td>\n",
       "      <td>FACEBOOK-MOL - link clicks - FB - MOL MOVE kam...</td>\n",
       "      <td>320.000</td>\n",
       "    </tr>\n",
       "    <tr>\n",
       "      <th>17</th>\n",
       "      <td>FACEBOOK</td>\n",
       "      <td>FACEBOOK-MOL - post engagement - IG - MOL MOVE...</td>\n",
       "      <td>320.000</td>\n",
       "    </tr>\n",
       "    <tr>\n",
       "      <th>9</th>\n",
       "      <td>FACEBOOK</td>\n",
       "      <td>FACEBOOK-MOL - IG post - post engagement - 07/...</td>\n",
       "      <td>319.840</td>\n",
       "    </tr>\n",
       "    <tr>\n",
       "      <th>3</th>\n",
       "      <td>FACEBOOK</td>\n",
       "      <td>FACEBOOK-MOL - FB posts - brand awareness - 07...</td>\n",
       "      <td>300.000</td>\n",
       "    </tr>\n",
       "    <tr>\n",
       "      <th>16</th>\n",
       "      <td>FACEBOOK</td>\n",
       "      <td>FACEBOOK-MOL - link clicks - IG - MOL MOVE kam...</td>\n",
       "      <td>280.000</td>\n",
       "    </tr>\n",
       "    <tr>\n",
       "      <th>1</th>\n",
       "      <td>FACEBOOK</td>\n",
       "      <td>FACEBOOK-MOL - FB - post engagement - PWG kamp...</td>\n",
       "      <td>228.000</td>\n",
       "    </tr>\n",
       "    <tr>\n",
       "      <th>10</th>\n",
       "      <td>FACEBOOK</td>\n",
       "      <td>FACEBOOK-MOL - IG stories - brand awareness - ...</td>\n",
       "      <td>220.000</td>\n",
       "    </tr>\n",
       "    <tr>\n",
       "      <th>11</th>\n",
       "      <td>FACEBOOK</td>\n",
       "      <td>FACEBOOK-MOL - IG stories - brand awareness - ...</td>\n",
       "      <td>200.000</td>\n",
       "    </tr>\n",
       "    <tr>\n",
       "      <th>29</th>\n",
       "      <td>TIKTOK</td>\n",
       "      <td>TIKTOK-MOL CZ - TT - Video views - 06/2023</td>\n",
       "      <td>199.370</td>\n",
       "    </tr>\n",
       "    <tr>\n",
       "      <th>13</th>\n",
       "      <td>FACEBOOK</td>\n",
       "      <td>FACEBOOK-MOL - IG stories - video views - PWG ...</td>\n",
       "      <td>181.000</td>\n",
       "    </tr>\n",
       "    <tr>\n",
       "      <th>30</th>\n",
       "      <td>TIKTOK</td>\n",
       "      <td>TIKTOK-MOL CZ - TT - Video views - 07(08)/2023</td>\n",
       "      <td>159.960</td>\n",
       "    </tr>\n",
       "    <tr>\n",
       "      <th>18</th>\n",
       "      <td>FACEBOOK</td>\n",
       "      <td>FACEBOOK-MOL - post engagement - IG - Racing F...</td>\n",
       "      <td>119.980</td>\n",
       "    </tr>\n",
       "    <tr>\n",
       "      <th>25</th>\n",
       "      <td>LINKEDIN</td>\n",
       "      <td>LINKEDIN-MOL - link clicks - LI - Provozovatel...</td>\n",
       "      <td>107.310</td>\n",
       "    </tr>\n",
       "    <tr>\n",
       "      <th>12</th>\n",
       "      <td>FACEBOOK</td>\n",
       "      <td>FACEBOOK-MOL - IG stories - link clicks - 06/2023</td>\n",
       "      <td>99.480</td>\n",
       "    </tr>\n",
       "    <tr>\n",
       "      <th>22</th>\n",
       "      <td>FACEBOOK</td>\n",
       "      <td>FACEBOOK-MOL - video views - IG - Racing Fuel ...</td>\n",
       "      <td>80.000</td>\n",
       "    </tr>\n",
       "    <tr>\n",
       "      <th>28</th>\n",
       "      <td>TIKTOK</td>\n",
       "      <td>TIKTOK-MOL CZ - TT - Follows - 07(08)/2023</td>\n",
       "      <td>79.580</td>\n",
       "    </tr>\n",
       "    <tr>\n",
       "      <th>8</th>\n",
       "      <td>FACEBOOK</td>\n",
       "      <td>FACEBOOK-MOL - IG - post engagement - FC MOVE ...</td>\n",
       "      <td>75.270</td>\n",
       "    </tr>\n",
       "    <tr>\n",
       "      <th>0</th>\n",
       "      <td>FACEBOOK</td>\n",
       "      <td>FACEBOOK-MOL - FB - brand awareness - FC MOVE ...</td>\n",
       "      <td>70.900</td>\n",
       "    </tr>\n",
       "    <tr>\n",
       "      <th>5</th>\n",
       "      <td>FACEBOOK</td>\n",
       "      <td>FACEBOOK-MOL - FB posts - post engagement - 07...</td>\n",
       "      <td>60.000</td>\n",
       "    </tr>\n",
       "    <tr>\n",
       "      <th>6</th>\n",
       "      <td>FACEBOOK</td>\n",
       "      <td>FACEBOOK-MOL - FB posts - video views - 06/2023</td>\n",
       "      <td>50.140</td>\n",
       "    </tr>\n",
       "    <tr>\n",
       "      <th>4</th>\n",
       "      <td>FACEBOOK</td>\n",
       "      <td>FACEBOOK-MOL - FB posts - post engagement - 06...</td>\n",
       "      <td>49.260</td>\n",
       "    </tr>\n",
       "    <tr>\n",
       "      <th>23</th>\n",
       "      <td>FACEBOOK</td>\n",
       "      <td>FACEBOOK-MOL - video views - IG - Rallye Bohem...</td>\n",
       "      <td>30.000</td>\n",
       "    </tr>\n",
       "    <tr>\n",
       "      <th>20</th>\n",
       "      <td>FACEBOOK</td>\n",
       "      <td>FACEBOOK-MOL - video views - FB - Rallye Bohem...</td>\n",
       "      <td>30.000</td>\n",
       "    </tr>\n",
       "    <tr>\n",
       "      <th>24</th>\n",
       "      <td>LINKEDIN</td>\n",
       "      <td>LINKEDIN-MOL - link clicks - LI - Provozovatel...</td>\n",
       "      <td>16.430</td>\n",
       "    </tr>\n",
       "    <tr>\n",
       "      <th>27</th>\n",
       "      <td>TIKTOK</td>\n",
       "      <td>TIKTOK-MOL CZ - TT - Follows - 03/2023</td>\n",
       "      <td>0.000</td>\n",
       "    </tr>\n",
       "    <tr>\n",
       "      <th>31</th>\n",
       "      <td>TIKTOK</td>\n",
       "      <td>TIKTOK-MOL CZ - TT - Video views - MOL MOVE 05...</td>\n",
       "      <td>0.000</td>\n",
       "    </tr>\n",
       "  </tbody>\n",
       "</table>\n",
       "</div>"
      ],
      "text/plain": [
       "   platform_id                                      campaign_name  \\\n",
       "7     FACEBOOK  FACEBOOK-MOL - FB+IG - link clicks - PWG kampa...   \n",
       "19    FACEBOOK  FACEBOOK-MOL - video views - FB - MOL MOVE kam...   \n",
       "15    FACEBOOK  FACEBOOK-MOL - link clicks - FB+IG - MOL MOVE ...   \n",
       "2     FACEBOOK  FACEBOOK-MOL - FB - video views - PWG kampaň -...   \n",
       "26    LINKEDIN  LINKEDIN-MOL - link clicks - LI - Provozovatel...   \n",
       "21    FACEBOOK  FACEBOOK-MOL - video views - IG - MOL MOVE kam...   \n",
       "14    FACEBOOK  FACEBOOK-MOL - link clicks - FB - MOL MOVE kam...   \n",
       "17    FACEBOOK  FACEBOOK-MOL - post engagement - IG - MOL MOVE...   \n",
       "9     FACEBOOK  FACEBOOK-MOL - IG post - post engagement - 07/...   \n",
       "3     FACEBOOK  FACEBOOK-MOL - FB posts - brand awareness - 07...   \n",
       "16    FACEBOOK  FACEBOOK-MOL - link clicks - IG - MOL MOVE kam...   \n",
       "1     FACEBOOK  FACEBOOK-MOL - FB - post engagement - PWG kamp...   \n",
       "10    FACEBOOK  FACEBOOK-MOL - IG stories - brand awareness - ...   \n",
       "11    FACEBOOK  FACEBOOK-MOL - IG stories - brand awareness - ...   \n",
       "29      TIKTOK         TIKTOK-MOL CZ - TT - Video views - 06/2023   \n",
       "13    FACEBOOK  FACEBOOK-MOL - IG stories - video views - PWG ...   \n",
       "30      TIKTOK     TIKTOK-MOL CZ - TT - Video views - 07(08)/2023   \n",
       "18    FACEBOOK  FACEBOOK-MOL - post engagement - IG - Racing F...   \n",
       "25    LINKEDIN  LINKEDIN-MOL - link clicks - LI - Provozovatel...   \n",
       "12    FACEBOOK  FACEBOOK-MOL - IG stories - link clicks - 06/2023   \n",
       "22    FACEBOOK  FACEBOOK-MOL - video views - IG - Racing Fuel ...   \n",
       "28      TIKTOK         TIKTOK-MOL CZ - TT - Follows - 07(08)/2023   \n",
       "8     FACEBOOK  FACEBOOK-MOL - IG - post engagement - FC MOVE ...   \n",
       "0     FACEBOOK  FACEBOOK-MOL - FB - brand awareness - FC MOVE ...   \n",
       "5     FACEBOOK  FACEBOOK-MOL - FB posts - post engagement - 07...   \n",
       "6     FACEBOOK    FACEBOOK-MOL - FB posts - video views - 06/2023   \n",
       "4     FACEBOOK  FACEBOOK-MOL - FB posts - post engagement - 06...   \n",
       "23    FACEBOOK  FACEBOOK-MOL - video views - IG - Rallye Bohem...   \n",
       "20    FACEBOOK  FACEBOOK-MOL - video views - FB - Rallye Bohem...   \n",
       "24    LINKEDIN  LINKEDIN-MOL - link clicks - LI - Provozovatel...   \n",
       "27      TIKTOK             TIKTOK-MOL CZ - TT - Follows - 03/2023   \n",
       "31      TIKTOK  TIKTOK-MOL CZ - TT - Video views - MOL MOVE 05...   \n",
       "\n",
       "    spent_amount  \n",
       "7       1601.830  \n",
       "19      1035.550  \n",
       "15       887.110  \n",
       "2        448.000  \n",
       "26       428.664  \n",
       "21       342.860  \n",
       "14       320.000  \n",
       "17       320.000  \n",
       "9        319.840  \n",
       "3        300.000  \n",
       "16       280.000  \n",
       "1        228.000  \n",
       "10       220.000  \n",
       "11       200.000  \n",
       "29       199.370  \n",
       "13       181.000  \n",
       "30       159.960  \n",
       "18       119.980  \n",
       "25       107.310  \n",
       "12        99.480  \n",
       "22        80.000  \n",
       "28        79.580  \n",
       "8         75.270  \n",
       "0         70.900  \n",
       "5         60.000  \n",
       "6         50.140  \n",
       "4         49.260  \n",
       "23        30.000  \n",
       "20        30.000  \n",
       "24        16.430  \n",
       "27         0.000  \n",
       "31         0.000  "
      ]
     },
     "execution_count": 79,
     "metadata": {},
     "output_type": "execute_result"
    }
   ],
   "source": [
    "filtered_df = df[(df['start_date'] >= pd.to_datetime('2023-06-01')) & (df['start_date'] <= pd.to_datetime('2023-09-01'))]\n",
    "platform_campaign_spend = filtered_df.groupby(['platform_id','campaign_name']).agg(\n",
    "                        {'spent_amount': 'sum'}).reset_index().sort_values(by='spent_amount', ascending=False)\n",
    "platform_campaign_spend "
   ]
  },
  {
   "cell_type": "code",
   "execution_count": 78,
   "metadata": {},
   "outputs": [
    {
     "data": {
      "application/vnd.plotly.v1+json": {
       "config": {
        "plotlyServerURL": "https://plot.ly"
       },
       "data": [
        {
         "link": {
          "color": [
           "gray",
           "gray",
           "gray",
           "blue",
           "blue",
           "blue",
           "blue",
           "blue",
           "blue",
           "red",
           "red"
          ],
          "source": [
           0,
           1,
           2,
           3,
           3,
           3,
           3,
           3,
           3,
           4,
           4
          ],
          "target": [
           3,
           3,
           4,
           7,
           7,
           7,
           7,
           5,
           5,
           7,
           7
          ],
          "value": [
           1000,
           1200,
           1500,
           342.86,
           320,
           1601.83,
           50.14,
           16.43,
           107.31,
           50.14,
           280
          ]
         },
         "node": {
          "label": [
           "MOL_B1",
           "MOL_B2",
           "B3_MOL",
           "MOL",
           "MOL_2",
           "LINKEDIN",
           "TIKTOK",
           "FACEBOOK"
          ],
          "line": {
           "color": "black",
           "width": 0.5
          },
          "pad": 15,
          "thickness": 20
         },
         "type": "sankey"
        }
       ],
       "layout": {
        "template": {
         "data": {
          "bar": [
           {
            "error_x": {
             "color": "#2a3f5f"
            },
            "error_y": {
             "color": "#2a3f5f"
            },
            "marker": {
             "line": {
              "color": "#E5ECF6",
              "width": 0.5
             },
             "pattern": {
              "fillmode": "overlay",
              "size": 10,
              "solidity": 0.2
             }
            },
            "type": "bar"
           }
          ],
          "barpolar": [
           {
            "marker": {
             "line": {
              "color": "#E5ECF6",
              "width": 0.5
             },
             "pattern": {
              "fillmode": "overlay",
              "size": 10,
              "solidity": 0.2
             }
            },
            "type": "barpolar"
           }
          ],
          "carpet": [
           {
            "aaxis": {
             "endlinecolor": "#2a3f5f",
             "gridcolor": "white",
             "linecolor": "white",
             "minorgridcolor": "white",
             "startlinecolor": "#2a3f5f"
            },
            "baxis": {
             "endlinecolor": "#2a3f5f",
             "gridcolor": "white",
             "linecolor": "white",
             "minorgridcolor": "white",
             "startlinecolor": "#2a3f5f"
            },
            "type": "carpet"
           }
          ],
          "choropleth": [
           {
            "colorbar": {
             "outlinewidth": 0,
             "ticks": ""
            },
            "type": "choropleth"
           }
          ],
          "contour": [
           {
            "colorbar": {
             "outlinewidth": 0,
             "ticks": ""
            },
            "colorscale": [
             [
              0,
              "#0d0887"
             ],
             [
              0.1111111111111111,
              "#46039f"
             ],
             [
              0.2222222222222222,
              "#7201a8"
             ],
             [
              0.3333333333333333,
              "#9c179e"
             ],
             [
              0.4444444444444444,
              "#bd3786"
             ],
             [
              0.5555555555555556,
              "#d8576b"
             ],
             [
              0.6666666666666666,
              "#ed7953"
             ],
             [
              0.7777777777777778,
              "#fb9f3a"
             ],
             [
              0.8888888888888888,
              "#fdca26"
             ],
             [
              1,
              "#f0f921"
             ]
            ],
            "type": "contour"
           }
          ],
          "contourcarpet": [
           {
            "colorbar": {
             "outlinewidth": 0,
             "ticks": ""
            },
            "type": "contourcarpet"
           }
          ],
          "heatmap": [
           {
            "colorbar": {
             "outlinewidth": 0,
             "ticks": ""
            },
            "colorscale": [
             [
              0,
              "#0d0887"
             ],
             [
              0.1111111111111111,
              "#46039f"
             ],
             [
              0.2222222222222222,
              "#7201a8"
             ],
             [
              0.3333333333333333,
              "#9c179e"
             ],
             [
              0.4444444444444444,
              "#bd3786"
             ],
             [
              0.5555555555555556,
              "#d8576b"
             ],
             [
              0.6666666666666666,
              "#ed7953"
             ],
             [
              0.7777777777777778,
              "#fb9f3a"
             ],
             [
              0.8888888888888888,
              "#fdca26"
             ],
             [
              1,
              "#f0f921"
             ]
            ],
            "type": "heatmap"
           }
          ],
          "heatmapgl": [
           {
            "colorbar": {
             "outlinewidth": 0,
             "ticks": ""
            },
            "colorscale": [
             [
              0,
              "#0d0887"
             ],
             [
              0.1111111111111111,
              "#46039f"
             ],
             [
              0.2222222222222222,
              "#7201a8"
             ],
             [
              0.3333333333333333,
              "#9c179e"
             ],
             [
              0.4444444444444444,
              "#bd3786"
             ],
             [
              0.5555555555555556,
              "#d8576b"
             ],
             [
              0.6666666666666666,
              "#ed7953"
             ],
             [
              0.7777777777777778,
              "#fb9f3a"
             ],
             [
              0.8888888888888888,
              "#fdca26"
             ],
             [
              1,
              "#f0f921"
             ]
            ],
            "type": "heatmapgl"
           }
          ],
          "histogram": [
           {
            "marker": {
             "pattern": {
              "fillmode": "overlay",
              "size": 10,
              "solidity": 0.2
             }
            },
            "type": "histogram"
           }
          ],
          "histogram2d": [
           {
            "colorbar": {
             "outlinewidth": 0,
             "ticks": ""
            },
            "colorscale": [
             [
              0,
              "#0d0887"
             ],
             [
              0.1111111111111111,
              "#46039f"
             ],
             [
              0.2222222222222222,
              "#7201a8"
             ],
             [
              0.3333333333333333,
              "#9c179e"
             ],
             [
              0.4444444444444444,
              "#bd3786"
             ],
             [
              0.5555555555555556,
              "#d8576b"
             ],
             [
              0.6666666666666666,
              "#ed7953"
             ],
             [
              0.7777777777777778,
              "#fb9f3a"
             ],
             [
              0.8888888888888888,
              "#fdca26"
             ],
             [
              1,
              "#f0f921"
             ]
            ],
            "type": "histogram2d"
           }
          ],
          "histogram2dcontour": [
           {
            "colorbar": {
             "outlinewidth": 0,
             "ticks": ""
            },
            "colorscale": [
             [
              0,
              "#0d0887"
             ],
             [
              0.1111111111111111,
              "#46039f"
             ],
             [
              0.2222222222222222,
              "#7201a8"
             ],
             [
              0.3333333333333333,
              "#9c179e"
             ],
             [
              0.4444444444444444,
              "#bd3786"
             ],
             [
              0.5555555555555556,
              "#d8576b"
             ],
             [
              0.6666666666666666,
              "#ed7953"
             ],
             [
              0.7777777777777778,
              "#fb9f3a"
             ],
             [
              0.8888888888888888,
              "#fdca26"
             ],
             [
              1,
              "#f0f921"
             ]
            ],
            "type": "histogram2dcontour"
           }
          ],
          "mesh3d": [
           {
            "colorbar": {
             "outlinewidth": 0,
             "ticks": ""
            },
            "type": "mesh3d"
           }
          ],
          "parcoords": [
           {
            "line": {
             "colorbar": {
              "outlinewidth": 0,
              "ticks": ""
             }
            },
            "type": "parcoords"
           }
          ],
          "pie": [
           {
            "automargin": true,
            "type": "pie"
           }
          ],
          "scatter": [
           {
            "fillpattern": {
             "fillmode": "overlay",
             "size": 10,
             "solidity": 0.2
            },
            "type": "scatter"
           }
          ],
          "scatter3d": [
           {
            "line": {
             "colorbar": {
              "outlinewidth": 0,
              "ticks": ""
             }
            },
            "marker": {
             "colorbar": {
              "outlinewidth": 0,
              "ticks": ""
             }
            },
            "type": "scatter3d"
           }
          ],
          "scattercarpet": [
           {
            "marker": {
             "colorbar": {
              "outlinewidth": 0,
              "ticks": ""
             }
            },
            "type": "scattercarpet"
           }
          ],
          "scattergeo": [
           {
            "marker": {
             "colorbar": {
              "outlinewidth": 0,
              "ticks": ""
             }
            },
            "type": "scattergeo"
           }
          ],
          "scattergl": [
           {
            "marker": {
             "colorbar": {
              "outlinewidth": 0,
              "ticks": ""
             }
            },
            "type": "scattergl"
           }
          ],
          "scattermapbox": [
           {
            "marker": {
             "colorbar": {
              "outlinewidth": 0,
              "ticks": ""
             }
            },
            "type": "scattermapbox"
           }
          ],
          "scatterpolar": [
           {
            "marker": {
             "colorbar": {
              "outlinewidth": 0,
              "ticks": ""
             }
            },
            "type": "scatterpolar"
           }
          ],
          "scatterpolargl": [
           {
            "marker": {
             "colorbar": {
              "outlinewidth": 0,
              "ticks": ""
             }
            },
            "type": "scatterpolargl"
           }
          ],
          "scatterternary": [
           {
            "marker": {
             "colorbar": {
              "outlinewidth": 0,
              "ticks": ""
             }
            },
            "type": "scatterternary"
           }
          ],
          "surface": [
           {
            "colorbar": {
             "outlinewidth": 0,
             "ticks": ""
            },
            "colorscale": [
             [
              0,
              "#0d0887"
             ],
             [
              0.1111111111111111,
              "#46039f"
             ],
             [
              0.2222222222222222,
              "#7201a8"
             ],
             [
              0.3333333333333333,
              "#9c179e"
             ],
             [
              0.4444444444444444,
              "#bd3786"
             ],
             [
              0.5555555555555556,
              "#d8576b"
             ],
             [
              0.6666666666666666,
              "#ed7953"
             ],
             [
              0.7777777777777778,
              "#fb9f3a"
             ],
             [
              0.8888888888888888,
              "#fdca26"
             ],
             [
              1,
              "#f0f921"
             ]
            ],
            "type": "surface"
           }
          ],
          "table": [
           {
            "cells": {
             "fill": {
              "color": "#EBF0F8"
             },
             "line": {
              "color": "white"
             }
            },
            "header": {
             "fill": {
              "color": "#C8D4E3"
             },
             "line": {
              "color": "white"
             }
            },
            "type": "table"
           }
          ]
         },
         "layout": {
          "annotationdefaults": {
           "arrowcolor": "#2a3f5f",
           "arrowhead": 0,
           "arrowwidth": 1
          },
          "autotypenumbers": "strict",
          "coloraxis": {
           "colorbar": {
            "outlinewidth": 0,
            "ticks": ""
           }
          },
          "colorscale": {
           "diverging": [
            [
             0,
             "#8e0152"
            ],
            [
             0.1,
             "#c51b7d"
            ],
            [
             0.2,
             "#de77ae"
            ],
            [
             0.3,
             "#f1b6da"
            ],
            [
             0.4,
             "#fde0ef"
            ],
            [
             0.5,
             "#f7f7f7"
            ],
            [
             0.6,
             "#e6f5d0"
            ],
            [
             0.7,
             "#b8e186"
            ],
            [
             0.8,
             "#7fbc41"
            ],
            [
             0.9,
             "#4d9221"
            ],
            [
             1,
             "#276419"
            ]
           ],
           "sequential": [
            [
             0,
             "#0d0887"
            ],
            [
             0.1111111111111111,
             "#46039f"
            ],
            [
             0.2222222222222222,
             "#7201a8"
            ],
            [
             0.3333333333333333,
             "#9c179e"
            ],
            [
             0.4444444444444444,
             "#bd3786"
            ],
            [
             0.5555555555555556,
             "#d8576b"
            ],
            [
             0.6666666666666666,
             "#ed7953"
            ],
            [
             0.7777777777777778,
             "#fb9f3a"
            ],
            [
             0.8888888888888888,
             "#fdca26"
            ],
            [
             1,
             "#f0f921"
            ]
           ],
           "sequentialminus": [
            [
             0,
             "#0d0887"
            ],
            [
             0.1111111111111111,
             "#46039f"
            ],
            [
             0.2222222222222222,
             "#7201a8"
            ],
            [
             0.3333333333333333,
             "#9c179e"
            ],
            [
             0.4444444444444444,
             "#bd3786"
            ],
            [
             0.5555555555555556,
             "#d8576b"
            ],
            [
             0.6666666666666666,
             "#ed7953"
            ],
            [
             0.7777777777777778,
             "#fb9f3a"
            ],
            [
             0.8888888888888888,
             "#fdca26"
            ],
            [
             1,
             "#f0f921"
            ]
           ]
          },
          "colorway": [
           "#636efa",
           "#EF553B",
           "#00cc96",
           "#ab63fa",
           "#FFA15A",
           "#19d3f3",
           "#FF6692",
           "#B6E880",
           "#FF97FF",
           "#FECB52"
          ],
          "font": {
           "color": "#2a3f5f"
          },
          "geo": {
           "bgcolor": "white",
           "lakecolor": "white",
           "landcolor": "#E5ECF6",
           "showlakes": true,
           "showland": true,
           "subunitcolor": "white"
          },
          "hoverlabel": {
           "align": "left"
          },
          "hovermode": "closest",
          "mapbox": {
           "style": "light"
          },
          "paper_bgcolor": "white",
          "plot_bgcolor": "#E5ECF6",
          "polar": {
           "angularaxis": {
            "gridcolor": "white",
            "linecolor": "white",
            "ticks": ""
           },
           "bgcolor": "#E5ECF6",
           "radialaxis": {
            "gridcolor": "white",
            "linecolor": "white",
            "ticks": ""
           }
          },
          "scene": {
           "xaxis": {
            "backgroundcolor": "#E5ECF6",
            "gridcolor": "white",
            "gridwidth": 2,
            "linecolor": "white",
            "showbackground": true,
            "ticks": "",
            "zerolinecolor": "white"
           },
           "yaxis": {
            "backgroundcolor": "#E5ECF6",
            "gridcolor": "white",
            "gridwidth": 2,
            "linecolor": "white",
            "showbackground": true,
            "ticks": "",
            "zerolinecolor": "white"
           },
           "zaxis": {
            "backgroundcolor": "#E5ECF6",
            "gridcolor": "white",
            "gridwidth": 2,
            "linecolor": "white",
            "showbackground": true,
            "ticks": "",
            "zerolinecolor": "white"
           }
          },
          "shapedefaults": {
           "line": {
            "color": "#2a3f5f"
           }
          },
          "ternary": {
           "aaxis": {
            "gridcolor": "white",
            "linecolor": "white",
            "ticks": ""
           },
           "baxis": {
            "gridcolor": "white",
            "linecolor": "white",
            "ticks": ""
           },
           "bgcolor": "#E5ECF6",
           "caxis": {
            "gridcolor": "white",
            "linecolor": "white",
            "ticks": ""
           }
          },
          "title": {
           "x": 0.05
          },
          "xaxis": {
           "automargin": true,
           "gridcolor": "white",
           "linecolor": "white",
           "ticks": "",
           "title": {
            "standoff": 15
           },
           "zerolinecolor": "white",
           "zerolinewidth": 2
          },
          "yaxis": {
           "automargin": true,
           "gridcolor": "white",
           "linecolor": "white",
           "ticks": "",
           "title": {
            "standoff": 15
           },
           "zerolinecolor": "white",
           "zerolinewidth": 2
          }
         }
        }
       }
      }
     },
     "metadata": {},
     "output_type": "display_data"
    }
   ],
   "source": [
    "# Extract unique platforms from campaign names (assuming a simple naming convention)\n",
    "def extract_platform(campaign_name):\n",
    "    return campaign_name.split('-')[0]  # This might be too simplistic, adjust as necessary\n",
    "\n",
    "unique_platforms = list(set([extract_platform(c) for c in campaign_spend['campaign_name']]))\n",
    "\n",
    "# Adjust labels to include platforms\n",
    "labels = list(data_from_snowflake['Budget'].unique()) + list(data_from_snowflake['Client'].unique()) + unique_platforms\n",
    "\n",
    "# Budget to Client links are unchanged\n",
    "source = [labels.index(budget) for budget in data_from_snowflake['Budget']]\n",
    "target = [labels.index(client) for client in data_from_snowflake['Client']]\n",
    "value = data_from_snowflake['Budget_Amount'].tolist()\n",
    "\n",
    "colors = ['gray' for _ in data_from_snowflake['Budget']]\n",
    "\n",
    "# Client to Platform links (instead of campaigns)\n",
    "for index, row in data_from_snowflake.iterrows():\n",
    "    for campaign in row['Campaings']:\n",
    "        platform = extract_platform(campaign)  # Get the platform for the campaign\n",
    "        source.append(labels.index(row['Client']))\n",
    "        target.append(labels.index(platform))\n",
    "        \n",
    "        # Adjust the value calculation if needed\n",
    "        value.append(campaign_spend[campaign_spend['campaign_name'] == campaign]['spent_amount'].iloc[0])\n",
    "        \n",
    "        colors.append(client_colors[row['Client']])\n",
    "\n",
    "# Build the Sankey chart\n",
    "fig = go.Figure(data=[go.Sankey(\n",
    "    node=dict(pad=15, thickness=20, line=dict(color=\"black\", width=0.5), label=labels),\n",
    "    link=dict(source=source, target=target, value=value, color=colors)\n",
    ")])\n",
    "\n",
    "fig.show()"
   ]
  },
  {
   "cell_type": "code",
   "execution_count": 68,
   "metadata": {},
   "outputs": [
    {
     "data": {
      "application/vnd.plotly.v1+json": {
       "config": {
        "plotlyServerURL": "https://plot.ly"
       },
       "data": [
        {
         "link": {
          "color": [
           "gray",
           "gray",
           "gray",
           "blue",
           "blue",
           "blue",
           "blue",
           "blue",
           "blue",
           "red",
           "red"
          ],
          "source": [
           0,
           1,
           2,
           3,
           3,
           3,
           3,
           3,
           3,
           4,
           4
          ],
          "target": [
           3,
           3,
           4,
           10,
           11,
           5,
           37,
           23,
           25,
           37,
           15
          ],
          "value": [
           1000,
           1200,
           1500,
           342.86,
           320,
           1601.83,
           50.14,
           180,
           180,
           50.14,
           280
          ]
         },
         "node": {
          "label": [
           "MOL_B1",
           "MOL_B2",
           "B3_MOL",
           "MOL",
           "MOL_2",
           "FACEBOOK-MOL - FB+IG - link clicks - PWG kampaň - 07-09/2023",
           "FACEBOOK-MOL - video views - FB - MOL MOVE kampaň - 05-07/2023",
           "FACEBOOK-MOL - link clicks - FB+IG - MOL MOVE kampaň - 05-07/2023",
           "LINKEDIN-MOL - link clicks - LI - Provozovatelé - 2023",
           "FACEBOOK-MOL - FB - video views - PWG kampaň - 07-09/2023",
           "FACEBOOK-MOL - video views - IG - MOL MOVE kampaň - 05-07/2023",
           "FACEBOOK-MOL - link clicks - FB - MOL MOVE kampaň - 05-07/2023",
           "FACEBOOK-MOL - post engagement - IG - MOL MOVE kampaň - 05-07/2023",
           "FACEBOOK-MOL - IG post - post engagement - 07/2023",
           "FACEBOOK-MOL - FB posts - brand awareness - 07/2023",
           "FACEBOOK-MOL - link clicks - IG - MOL MOVE kampaň - 05-07/2023",
           "FACEBOOK-MOL - FB - post engagement - PWG kampaň - 07-09/2023",
           "FACEBOOK-MOL - IG stories - brand awareness - 07/2023",
           "FACEBOOK-MOL - IG stories - brand awareness - PWG kampaň - 07-09/2023",
           "TIKTOK-MOL CZ - TT - Video views - 06/2023",
           "FACEBOOK-MOL - IG stories - video views - PWG kampaň - 07-09/2023",
           "LINKEDIN-MOL - link clicks - LI - Provozovatel Pardubice - 05/2023",
           "LINKEDIN-MOL - link clicks - LI - Provozovatel Kutná Hora - 05/2023",
           "LINKEDIN-MOL - link clicks - LI - Provozovatel Chebsko - 05-06/2023",
           "LINKEDIN-MOL - link clicks - LI - Provozovatel Praha - 02-03/2023",
           "LINKEDIN-MOL - link clicks - LI - Provozovatel Praha - 05-06/2023",
           "LINKEDIN-MOL - link clicks - LI - Provozovatel Jindřichohradecko - 05/2023",
           "TIKTOK-MOL CZ - TT - Video views - 07(08)/2023",
           "FACEBOOK-MOL - post engagement - IG - Racing Fuel soutěž - 07/2023",
           "LINKEDIN-MOL - link clicks - LI - Provozovatel Velké Meziříčí - 04/2023",
           "FACEBOOK-MOL - IG stories - link clicks - 06/2023",
           "LINKEDIN-MOL - link clicks - LI - Provozovatel Brno - 04/2023",
           "FACEBOOK-MOL - video views - IG - Racing Fuel soutěž - 07/2023",
           "TIKTOK-MOL CZ - TT - Follows - 07(08)/2023",
           "FACEBOOK-MOL - IG - post engagement - FC MOVE kampaň - 05-06/2023",
           "FACEBOOK-MOL - FB - brand awareness - FC MOVE kampaň - 05-06/2023",
           "FACEBOOK-MOL - FB posts - post engagement - 07/2023",
           "FACEBOOK-MOL - FB posts - video views - 06/2023",
           "FACEBOOK-MOL - FB posts - post engagement - 06/2023",
           "FACEBOOK-MOL - video views - IG - Rallye Bohemia - 07/2023",
           "FACEBOOK-MOL - video views - FB - Rallye Bohemia - 07/2023",
           "TIKTOK-MOL CZ - TT - Follows - 03/2023",
           "TIKTOK-MOL CZ - TT - Video views - MOL MOVE 05-07/2023"
          ],
          "line": {
           "color": "black",
           "width": 0.5
          },
          "pad": 15,
          "thickness": 20
         },
         "type": "sankey"
        }
       ],
       "layout": {
        "template": {
         "data": {
          "bar": [
           {
            "error_x": {
             "color": "#2a3f5f"
            },
            "error_y": {
             "color": "#2a3f5f"
            },
            "marker": {
             "line": {
              "color": "#E5ECF6",
              "width": 0.5
             },
             "pattern": {
              "fillmode": "overlay",
              "size": 10,
              "solidity": 0.2
             }
            },
            "type": "bar"
           }
          ],
          "barpolar": [
           {
            "marker": {
             "line": {
              "color": "#E5ECF6",
              "width": 0.5
             },
             "pattern": {
              "fillmode": "overlay",
              "size": 10,
              "solidity": 0.2
             }
            },
            "type": "barpolar"
           }
          ],
          "carpet": [
           {
            "aaxis": {
             "endlinecolor": "#2a3f5f",
             "gridcolor": "white",
             "linecolor": "white",
             "minorgridcolor": "white",
             "startlinecolor": "#2a3f5f"
            },
            "baxis": {
             "endlinecolor": "#2a3f5f",
             "gridcolor": "white",
             "linecolor": "white",
             "minorgridcolor": "white",
             "startlinecolor": "#2a3f5f"
            },
            "type": "carpet"
           }
          ],
          "choropleth": [
           {
            "colorbar": {
             "outlinewidth": 0,
             "ticks": ""
            },
            "type": "choropleth"
           }
          ],
          "contour": [
           {
            "colorbar": {
             "outlinewidth": 0,
             "ticks": ""
            },
            "colorscale": [
             [
              0,
              "#0d0887"
             ],
             [
              0.1111111111111111,
              "#46039f"
             ],
             [
              0.2222222222222222,
              "#7201a8"
             ],
             [
              0.3333333333333333,
              "#9c179e"
             ],
             [
              0.4444444444444444,
              "#bd3786"
             ],
             [
              0.5555555555555556,
              "#d8576b"
             ],
             [
              0.6666666666666666,
              "#ed7953"
             ],
             [
              0.7777777777777778,
              "#fb9f3a"
             ],
             [
              0.8888888888888888,
              "#fdca26"
             ],
             [
              1,
              "#f0f921"
             ]
            ],
            "type": "contour"
           }
          ],
          "contourcarpet": [
           {
            "colorbar": {
             "outlinewidth": 0,
             "ticks": ""
            },
            "type": "contourcarpet"
           }
          ],
          "heatmap": [
           {
            "colorbar": {
             "outlinewidth": 0,
             "ticks": ""
            },
            "colorscale": [
             [
              0,
              "#0d0887"
             ],
             [
              0.1111111111111111,
              "#46039f"
             ],
             [
              0.2222222222222222,
              "#7201a8"
             ],
             [
              0.3333333333333333,
              "#9c179e"
             ],
             [
              0.4444444444444444,
              "#bd3786"
             ],
             [
              0.5555555555555556,
              "#d8576b"
             ],
             [
              0.6666666666666666,
              "#ed7953"
             ],
             [
              0.7777777777777778,
              "#fb9f3a"
             ],
             [
              0.8888888888888888,
              "#fdca26"
             ],
             [
              1,
              "#f0f921"
             ]
            ],
            "type": "heatmap"
           }
          ],
          "heatmapgl": [
           {
            "colorbar": {
             "outlinewidth": 0,
             "ticks": ""
            },
            "colorscale": [
             [
              0,
              "#0d0887"
             ],
             [
              0.1111111111111111,
              "#46039f"
             ],
             [
              0.2222222222222222,
              "#7201a8"
             ],
             [
              0.3333333333333333,
              "#9c179e"
             ],
             [
              0.4444444444444444,
              "#bd3786"
             ],
             [
              0.5555555555555556,
              "#d8576b"
             ],
             [
              0.6666666666666666,
              "#ed7953"
             ],
             [
              0.7777777777777778,
              "#fb9f3a"
             ],
             [
              0.8888888888888888,
              "#fdca26"
             ],
             [
              1,
              "#f0f921"
             ]
            ],
            "type": "heatmapgl"
           }
          ],
          "histogram": [
           {
            "marker": {
             "pattern": {
              "fillmode": "overlay",
              "size": 10,
              "solidity": 0.2
             }
            },
            "type": "histogram"
           }
          ],
          "histogram2d": [
           {
            "colorbar": {
             "outlinewidth": 0,
             "ticks": ""
            },
            "colorscale": [
             [
              0,
              "#0d0887"
             ],
             [
              0.1111111111111111,
              "#46039f"
             ],
             [
              0.2222222222222222,
              "#7201a8"
             ],
             [
              0.3333333333333333,
              "#9c179e"
             ],
             [
              0.4444444444444444,
              "#bd3786"
             ],
             [
              0.5555555555555556,
              "#d8576b"
             ],
             [
              0.6666666666666666,
              "#ed7953"
             ],
             [
              0.7777777777777778,
              "#fb9f3a"
             ],
             [
              0.8888888888888888,
              "#fdca26"
             ],
             [
              1,
              "#f0f921"
             ]
            ],
            "type": "histogram2d"
           }
          ],
          "histogram2dcontour": [
           {
            "colorbar": {
             "outlinewidth": 0,
             "ticks": ""
            },
            "colorscale": [
             [
              0,
              "#0d0887"
             ],
             [
              0.1111111111111111,
              "#46039f"
             ],
             [
              0.2222222222222222,
              "#7201a8"
             ],
             [
              0.3333333333333333,
              "#9c179e"
             ],
             [
              0.4444444444444444,
              "#bd3786"
             ],
             [
              0.5555555555555556,
              "#d8576b"
             ],
             [
              0.6666666666666666,
              "#ed7953"
             ],
             [
              0.7777777777777778,
              "#fb9f3a"
             ],
             [
              0.8888888888888888,
              "#fdca26"
             ],
             [
              1,
              "#f0f921"
             ]
            ],
            "type": "histogram2dcontour"
           }
          ],
          "mesh3d": [
           {
            "colorbar": {
             "outlinewidth": 0,
             "ticks": ""
            },
            "type": "mesh3d"
           }
          ],
          "parcoords": [
           {
            "line": {
             "colorbar": {
              "outlinewidth": 0,
              "ticks": ""
             }
            },
            "type": "parcoords"
           }
          ],
          "pie": [
           {
            "automargin": true,
            "type": "pie"
           }
          ],
          "scatter": [
           {
            "fillpattern": {
             "fillmode": "overlay",
             "size": 10,
             "solidity": 0.2
            },
            "type": "scatter"
           }
          ],
          "scatter3d": [
           {
            "line": {
             "colorbar": {
              "outlinewidth": 0,
              "ticks": ""
             }
            },
            "marker": {
             "colorbar": {
              "outlinewidth": 0,
              "ticks": ""
             }
            },
            "type": "scatter3d"
           }
          ],
          "scattercarpet": [
           {
            "marker": {
             "colorbar": {
              "outlinewidth": 0,
              "ticks": ""
             }
            },
            "type": "scattercarpet"
           }
          ],
          "scattergeo": [
           {
            "marker": {
             "colorbar": {
              "outlinewidth": 0,
              "ticks": ""
             }
            },
            "type": "scattergeo"
           }
          ],
          "scattergl": [
           {
            "marker": {
             "colorbar": {
              "outlinewidth": 0,
              "ticks": ""
             }
            },
            "type": "scattergl"
           }
          ],
          "scattermapbox": [
           {
            "marker": {
             "colorbar": {
              "outlinewidth": 0,
              "ticks": ""
             }
            },
            "type": "scattermapbox"
           }
          ],
          "scatterpolar": [
           {
            "marker": {
             "colorbar": {
              "outlinewidth": 0,
              "ticks": ""
             }
            },
            "type": "scatterpolar"
           }
          ],
          "scatterpolargl": [
           {
            "marker": {
             "colorbar": {
              "outlinewidth": 0,
              "ticks": ""
             }
            },
            "type": "scatterpolargl"
           }
          ],
          "scatterternary": [
           {
            "marker": {
             "colorbar": {
              "outlinewidth": 0,
              "ticks": ""
             }
            },
            "type": "scatterternary"
           }
          ],
          "surface": [
           {
            "colorbar": {
             "outlinewidth": 0,
             "ticks": ""
            },
            "colorscale": [
             [
              0,
              "#0d0887"
             ],
             [
              0.1111111111111111,
              "#46039f"
             ],
             [
              0.2222222222222222,
              "#7201a8"
             ],
             [
              0.3333333333333333,
              "#9c179e"
             ],
             [
              0.4444444444444444,
              "#bd3786"
             ],
             [
              0.5555555555555556,
              "#d8576b"
             ],
             [
              0.6666666666666666,
              "#ed7953"
             ],
             [
              0.7777777777777778,
              "#fb9f3a"
             ],
             [
              0.8888888888888888,
              "#fdca26"
             ],
             [
              1,
              "#f0f921"
             ]
            ],
            "type": "surface"
           }
          ],
          "table": [
           {
            "cells": {
             "fill": {
              "color": "#EBF0F8"
             },
             "line": {
              "color": "white"
             }
            },
            "header": {
             "fill": {
              "color": "#C8D4E3"
             },
             "line": {
              "color": "white"
             }
            },
            "type": "table"
           }
          ]
         },
         "layout": {
          "annotationdefaults": {
           "arrowcolor": "#2a3f5f",
           "arrowhead": 0,
           "arrowwidth": 1
          },
          "autotypenumbers": "strict",
          "coloraxis": {
           "colorbar": {
            "outlinewidth": 0,
            "ticks": ""
           }
          },
          "colorscale": {
           "diverging": [
            [
             0,
             "#8e0152"
            ],
            [
             0.1,
             "#c51b7d"
            ],
            [
             0.2,
             "#de77ae"
            ],
            [
             0.3,
             "#f1b6da"
            ],
            [
             0.4,
             "#fde0ef"
            ],
            [
             0.5,
             "#f7f7f7"
            ],
            [
             0.6,
             "#e6f5d0"
            ],
            [
             0.7,
             "#b8e186"
            ],
            [
             0.8,
             "#7fbc41"
            ],
            [
             0.9,
             "#4d9221"
            ],
            [
             1,
             "#276419"
            ]
           ],
           "sequential": [
            [
             0,
             "#0d0887"
            ],
            [
             0.1111111111111111,
             "#46039f"
            ],
            [
             0.2222222222222222,
             "#7201a8"
            ],
            [
             0.3333333333333333,
             "#9c179e"
            ],
            [
             0.4444444444444444,
             "#bd3786"
            ],
            [
             0.5555555555555556,
             "#d8576b"
            ],
            [
             0.6666666666666666,
             "#ed7953"
            ],
            [
             0.7777777777777778,
             "#fb9f3a"
            ],
            [
             0.8888888888888888,
             "#fdca26"
            ],
            [
             1,
             "#f0f921"
            ]
           ],
           "sequentialminus": [
            [
             0,
             "#0d0887"
            ],
            [
             0.1111111111111111,
             "#46039f"
            ],
            [
             0.2222222222222222,
             "#7201a8"
            ],
            [
             0.3333333333333333,
             "#9c179e"
            ],
            [
             0.4444444444444444,
             "#bd3786"
            ],
            [
             0.5555555555555556,
             "#d8576b"
            ],
            [
             0.6666666666666666,
             "#ed7953"
            ],
            [
             0.7777777777777778,
             "#fb9f3a"
            ],
            [
             0.8888888888888888,
             "#fdca26"
            ],
            [
             1,
             "#f0f921"
            ]
           ]
          },
          "colorway": [
           "#636efa",
           "#EF553B",
           "#00cc96",
           "#ab63fa",
           "#FFA15A",
           "#19d3f3",
           "#FF6692",
           "#B6E880",
           "#FF97FF",
           "#FECB52"
          ],
          "font": {
           "color": "#2a3f5f"
          },
          "geo": {
           "bgcolor": "white",
           "lakecolor": "white",
           "landcolor": "#E5ECF6",
           "showlakes": true,
           "showland": true,
           "subunitcolor": "white"
          },
          "hoverlabel": {
           "align": "left"
          },
          "hovermode": "closest",
          "mapbox": {
           "style": "light"
          },
          "paper_bgcolor": "white",
          "plot_bgcolor": "#E5ECF6",
          "polar": {
           "angularaxis": {
            "gridcolor": "white",
            "linecolor": "white",
            "ticks": ""
           },
           "bgcolor": "#E5ECF6",
           "radialaxis": {
            "gridcolor": "white",
            "linecolor": "white",
            "ticks": ""
           }
          },
          "scene": {
           "xaxis": {
            "backgroundcolor": "#E5ECF6",
            "gridcolor": "white",
            "gridwidth": 2,
            "linecolor": "white",
            "showbackground": true,
            "ticks": "",
            "zerolinecolor": "white"
           },
           "yaxis": {
            "backgroundcolor": "#E5ECF6",
            "gridcolor": "white",
            "gridwidth": 2,
            "linecolor": "white",
            "showbackground": true,
            "ticks": "",
            "zerolinecolor": "white"
           },
           "zaxis": {
            "backgroundcolor": "#E5ECF6",
            "gridcolor": "white",
            "gridwidth": 2,
            "linecolor": "white",
            "showbackground": true,
            "ticks": "",
            "zerolinecolor": "white"
           }
          },
          "shapedefaults": {
           "line": {
            "color": "#2a3f5f"
           }
          },
          "ternary": {
           "aaxis": {
            "gridcolor": "white",
            "linecolor": "white",
            "ticks": ""
           },
           "baxis": {
            "gridcolor": "white",
            "linecolor": "white",
            "ticks": ""
           },
           "bgcolor": "#E5ECF6",
           "caxis": {
            "gridcolor": "white",
            "linecolor": "white",
            "ticks": ""
           }
          },
          "title": {
           "x": 0.05
          },
          "xaxis": {
           "automargin": true,
           "gridcolor": "white",
           "linecolor": "white",
           "ticks": "",
           "title": {
            "standoff": 15
           },
           "zerolinecolor": "white",
           "zerolinewidth": 2
          },
          "yaxis": {
           "automargin": true,
           "gridcolor": "white",
           "linecolor": "white",
           "ticks": "",
           "title": {
            "standoff": 15
           },
           "zerolinecolor": "white",
           "zerolinewidth": 2
          }
         }
        }
       }
      }
     },
     "metadata": {},
     "output_type": "display_data"
    }
   ],
   "source": [
    "campaign_spend = filtered_df_2.groupby(['campaign_name']).agg(\n",
    "                        {'spent_amount': 'sum'}).reset_index().sort_values(by='spent_amount', ascending=False)\n",
    "# Create Sankey chart\n",
    "labels = list(data_from_snowflake['Budget'].unique()) + list(data_from_snowflake['Client'].unique()) + campaign_spend['campaign_name'].tolist()\n",
    "\n",
    "# Budget to Client links\n",
    "source = [labels.index(budget) for budget in data_from_snowflake['Budget']]\n",
    "target = [labels.index(client) for client in data_from_snowflake['Client']]\n",
    "value = data_from_snowflake['Budget_Amount'].tolist()\n",
    "\n",
    "colors = []  # List to store link colors\n",
    "\n",
    "color_cycle = ['blue', 'red', 'green', 'yellow', 'purple', 'cyan']  # Define more colors if needed\n",
    "\n",
    "# Map clients to specific colors from the color_cycle\n",
    "client_colors = {client: color_cycle[i % len(color_cycle)] for i, client in enumerate(data_from_snowflake['Client'].unique())}\n",
    "\n",
    "# Assign a color to each link from budget to client (assuming gray for simplicity)\n",
    "for _ in data_from_snowflake['Budget']:\n",
    "    colors.append('gray')\n",
    "\n",
    "# Client to Campaign links\n",
    "for index, row in data_from_snowflake.iterrows():\n",
    "    for campaign in row['Campaings']:\n",
    "        source.append(labels.index(row['Client']))\n",
    "        target.append(labels.index(campaign))\n",
    "        value.append(campaign_spend[campaign_spend['campaign_name'] == campaign]['spent_amount'].iloc[0])\n",
    "        \n",
    "        colors.append(client_colors[row['Client']])  # Fetch the color for the client from the client_colors dictionary\n",
    "\n",
    "# Build the Sankey chart\n",
    "fig = go.Figure(data=[go.Sankey(\n",
    "    node=dict(pad=15, thickness=20, line=dict(color=\"black\", width=0.5), label=labels),\n",
    "    link=dict(source=source, target=target, value=value, color=colors)\n",
    ")])\n",
    "\n",
    "fig.show()\n",
    "#TODO: change this plot to show last node as a platfrom, not campaigns "
   ]
  },
  {
   "cell_type": "code",
   "execution_count": null,
   "metadata": {},
   "outputs": [],
   "source": [
    "print(df[\"campaign_name\"].unique())"
   ]
  },
  {
   "cell_type": "code",
   "execution_count": 15,
   "metadata": {},
   "outputs": [
    {
     "name": "stdout",
     "output_type": "stream",
     "text": [
      "Client                                                       MOL_3\n",
      "Budget                                                 Main Budget\n",
      "Budget amount                                                 1000\n",
      "Currency                                                       EUR\n",
      "Since date                                              2023-08-01\n",
      "Until date                                              2023-10-01\n",
      "Campaigns        [TIKTOK-MOL CZ - TT - Video views - 07(08)/202...\n",
      "dtype: object\n"
     ]
    }
   ],
   "source": [
    "data = {\n",
    "    \"Client\": \"MOL_3\",\n",
    "    \"Budget\": \"Main Budget\",\n",
    "    \"Budget amount\": 1000,\n",
    "    \"Currency\": \"EUR\",\n",
    "    \"Since date\": \"2023-08-01\",\n",
    "    \"Until date\": \"2023-10-01\",\n",
    "    \"Campaigns\": [\n",
    "        'TIKTOK-MOL CZ - TT - Video views - 07(08)/2023',\n",
    "        'TIKTOK-MOL CZ - TT - Video views - 06/2023',\n",
    "        'TIKTOK-MOL CZ - TT - Follows - 07(08)/2023',\n",
    "        'TIKTOK-MOL CZ - TT - Follows - 03/2023'\n",
    "    ]\n",
    "}\n",
    "\n",
    "s = pd.Series(data)\n",
    "print(s)"
   ]
  },
  {
   "cell_type": "code",
   "execution_count": 16,
   "metadata": {},
   "outputs": [
    {
     "data": {
      "text/plain": [
       "'MOL_3'"
      ]
     },
     "execution_count": 16,
     "metadata": {},
     "output_type": "execute_result"
    }
   ],
   "source": [
    "s['Client']"
   ]
  },
  {
   "cell_type": "code",
   "execution_count": 13,
   "metadata": {},
   "outputs": [],
   "source": [
    "import  snowflake.connector\n",
    "def insert_rows_to_snowflake(row):\n",
    "    my_cnx = snowflake.connector.connect(\n",
    "    user = \"KEBOOLA_WORKSPACE_611037349\",\n",
    "    password = \"35zWKbK2rsWeY7q63zZhy6EEHh4PAawM\" ,\n",
    "    account = \"keboola.eu-central-1\",\n",
    "    warehouse = \"KEBOOLA_PROD_SMALL\",\n",
    "    database = \"KEBOOLA_3730\",\n",
    "    schema = \"WORKSPACE_611037349\")\n",
    "     # Extract data from Series\n",
    "    client = row['Client']\n",
    "    budget = row['Budget_name']\n",
    "    amount = row['Budget amount']\n",
    "    currency = row['Currency']\n",
    "    since = row['Since date']\n",
    "    until = row['Until date']\n",
    "    campaigns_string = \",\".join(row['Campaings']).replace(\"'\", \"''\")  # Convert the list to a comma-separated string and escape any single quotes\n",
    "\n",
    "    # SQL statement\n",
    "    sql = (f\"INSERT INTO KEBOOLA_3730.WORKSPACE_611037349.campaing_budget \"\n",
    "                   f\"(client, budget, budget_amount, currency, since_date, until_date, campaings) \"\n",
    "                   f\"SELECT '{client}', '{budget}', {amount}, '{currency}', '{since}', '{until}', \"\n",
    "                   f\"SPLIT('{campaigns_string}', ',') AS campaings;\")\n",
    "                   \n",
    "            \n",
    "    # Cursor for Snowflake and Execute the SQL\n",
    "    with my_cnx.cursor() as cur:\n",
    "        cur.execute(sql)\n",
    "    my_cnx.close()"
   ]
  },
  {
   "cell_type": "code",
   "execution_count": 11,
   "metadata": {},
   "outputs": [
    {
     "ename": "AttributeError",
     "evalue": "'Series' object has no attribute 'iterrows'",
     "output_type": "error",
     "traceback": [
      "\u001b[0;31m---------------------------------------------------------------------------\u001b[0m",
      "\u001b[0;31mAttributeError\u001b[0m                            Traceback (most recent call last)",
      "\u001b[0;32m/var/folders/rd/l77bltt96_97jdz4bbkmq5z40000gn/T/ipykernel_68313/3321607946.py\u001b[0m in \u001b[0;36m?\u001b[0;34m()\u001b[0m\n\u001b[0;32m----> 1\u001b[0;31m \u001b[0minsert_rows_to_snowflake\u001b[0m\u001b[0;34m(\u001b[0m\u001b[0ms\u001b[0m\u001b[0;34m)\u001b[0m\u001b[0;34m\u001b[0m\u001b[0;34m\u001b[0m\u001b[0m\n\u001b[0m",
      "\u001b[0;32m/var/folders/rd/l77bltt96_97jdz4bbkmq5z40000gn/T/ipykernel_68313/1308188111.py\u001b[0m in \u001b[0;36m?\u001b[0;34m(df)\u001b[0m\n\u001b[1;32m      8\u001b[0m     \u001b[0mdatabase\u001b[0m \u001b[0;34m=\u001b[0m \u001b[0;34m\"KEBOOLA_3730\"\u001b[0m\u001b[0;34m,\u001b[0m\u001b[0;34m\u001b[0m\u001b[0;34m\u001b[0m\u001b[0m\n\u001b[1;32m      9\u001b[0m     schema = \"WORKSPACE_611037349\")\n\u001b[1;32m     10\u001b[0m     \u001b[0;31m# Cursor for Snowflake\u001b[0m\u001b[0;34m\u001b[0m\u001b[0;34m\u001b[0m\u001b[0m\n\u001b[1;32m     11\u001b[0m     \u001b[0;32mwith\u001b[0m \u001b[0mmy_cnx\u001b[0m\u001b[0;34m.\u001b[0m\u001b[0mcursor\u001b[0m\u001b[0;34m(\u001b[0m\u001b[0;34m)\u001b[0m \u001b[0;32mas\u001b[0m \u001b[0mcur\u001b[0m\u001b[0;34m:\u001b[0m\u001b[0;34m\u001b[0m\u001b[0;34m\u001b[0m\u001b[0m\n\u001b[0;32m---> 12\u001b[0;31m         \u001b[0;32mfor\u001b[0m \u001b[0m_\u001b[0m\u001b[0;34m,\u001b[0m \u001b[0mrow\u001b[0m \u001b[0;32min\u001b[0m \u001b[0mdf\u001b[0m\u001b[0;34m.\u001b[0m\u001b[0miterrows\u001b[0m\u001b[0;34m(\u001b[0m\u001b[0;34m)\u001b[0m\u001b[0;34m:\u001b[0m\u001b[0;34m\u001b[0m\u001b[0;34m\u001b[0m\u001b[0m\n\u001b[0m\u001b[1;32m     13\u001b[0m             \u001b[0mclient\u001b[0m \u001b[0;34m=\u001b[0m \u001b[0mrow\u001b[0m\u001b[0;34m[\u001b[0m\u001b[0;34m'Client'\u001b[0m\u001b[0;34m]\u001b[0m\u001b[0;34m\u001b[0m\u001b[0;34m\u001b[0m\u001b[0m\n\u001b[1;32m     14\u001b[0m             \u001b[0mbudget\u001b[0m \u001b[0;34m=\u001b[0m \u001b[0mrow\u001b[0m\u001b[0;34m[\u001b[0m\u001b[0;34m'Budget_name'\u001b[0m\u001b[0;34m]\u001b[0m\u001b[0;34m\u001b[0m\u001b[0;34m\u001b[0m\u001b[0m\n\u001b[1;32m     15\u001b[0m             \u001b[0mamount\u001b[0m \u001b[0;34m=\u001b[0m \u001b[0mrow\u001b[0m\u001b[0;34m[\u001b[0m\u001b[0;34m'Budget amount'\u001b[0m\u001b[0;34m]\u001b[0m\u001b[0;34m\u001b[0m\u001b[0;34m\u001b[0m\u001b[0m\n",
      "\u001b[0;32m~/opt/anaconda3/envs/streamlit_env/lib/python3.11/site-packages/pandas/core/generic.py\u001b[0m in \u001b[0;36m?\u001b[0;34m(self, name)\u001b[0m\n\u001b[1;32m   6198\u001b[0m             \u001b[0;32mand\u001b[0m \u001b[0mname\u001b[0m \u001b[0;32mnot\u001b[0m \u001b[0;32min\u001b[0m \u001b[0mself\u001b[0m\u001b[0;34m.\u001b[0m\u001b[0m_accessors\u001b[0m\u001b[0;34m\u001b[0m\u001b[0;34m\u001b[0m\u001b[0m\n\u001b[1;32m   6199\u001b[0m             \u001b[0;32mand\u001b[0m \u001b[0mself\u001b[0m\u001b[0;34m.\u001b[0m\u001b[0m_info_axis\u001b[0m\u001b[0;34m.\u001b[0m\u001b[0m_can_hold_identifiers_and_holds_name\u001b[0m\u001b[0;34m(\u001b[0m\u001b[0mname\u001b[0m\u001b[0;34m)\u001b[0m\u001b[0;34m\u001b[0m\u001b[0;34m\u001b[0m\u001b[0m\n\u001b[1;32m   6200\u001b[0m         ):\n\u001b[1;32m   6201\u001b[0m             \u001b[0;32mreturn\u001b[0m \u001b[0mself\u001b[0m\u001b[0;34m[\u001b[0m\u001b[0mname\u001b[0m\u001b[0;34m]\u001b[0m\u001b[0;34m\u001b[0m\u001b[0;34m\u001b[0m\u001b[0m\n\u001b[0;32m-> 6202\u001b[0;31m         \u001b[0;32mreturn\u001b[0m \u001b[0mobject\u001b[0m\u001b[0;34m.\u001b[0m\u001b[0m__getattribute__\u001b[0m\u001b[0;34m(\u001b[0m\u001b[0mself\u001b[0m\u001b[0;34m,\u001b[0m \u001b[0mname\u001b[0m\u001b[0;34m)\u001b[0m\u001b[0;34m\u001b[0m\u001b[0;34m\u001b[0m\u001b[0m\n\u001b[0m",
      "\u001b[0;31mAttributeError\u001b[0m: 'Series' object has no attribute 'iterrows'"
     ]
    }
   ],
   "source": [
    "insert_rows_to_snowflake(s)"
   ]
  },
  {
   "cell_type": "code",
   "execution_count": null,
   "metadata": {},
   "outputs": [],
   "source": []
  }
 ],
 "metadata": {
  "kernelspec": {
   "display_name": "Python 3",
   "language": "python",
   "name": "python3"
  },
  "language_info": {
   "codemirror_mode": {
    "name": "ipython",
    "version": 3
   },
   "file_extension": ".py",
   "mimetype": "text/x-python",
   "name": "python",
   "nbconvert_exporter": "python",
   "pygments_lexer": "ipython3",
   "version": "3.11.4"
  },
  "orig_nbformat": 4
 },
 "nbformat": 4,
 "nbformat_minor": 2
}
